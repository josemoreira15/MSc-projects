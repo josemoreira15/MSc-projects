{
 "cells": [
  {
   "cell_type": "markdown",
   "metadata": {},
   "source": [
    "# Estruturas Criptográficas\n",
    "## Trabalho Prático 4 - Exercício 2\n",
    "### José de Matos Moreira - PG53963\n",
    "### Pedro Freitas - PG52700"
   ]
  },
  {
   "cell_type": "markdown",
   "metadata": {},
   "source": [
    "## Enunciado do problema\n",
    "Implemente um protótipo do esquema descrito na norma **FIPS 205**, que deriva do algoritmo **SPHINCS+**."
   ]
  },
  {
   "cell_type": "markdown",
   "metadata": {},
   "source": [
    "## Resolução"
   ]
  },
  {
   "cell_type": "markdown",
   "metadata": {},
   "source": [
    "Em primeiro lugar, mostram-se os diversos *imports* efetuados."
   ]
  },
  {
   "cell_type": "code",
   "execution_count": 22,
   "metadata": {},
   "outputs": [],
   "source": [
    "from Crypto.Hash import SHA256, SHA512, SHAKE256\n",
    "import os"
   ]
  },
  {
   "cell_type": "markdown",
   "metadata": {},
   "source": [
    "### Código auxiliar"
   ]
  },
  {
   "cell_type": "markdown",
   "metadata": {},
   "source": [
    "Em primeiro lugar, apresenta-se o código relativo à classe **ADRS**. Um **ADRS** consiste em valores públicos que indicam a posição do valor a ser utilizado pela função. Deste modo, todas as funções presentes nessa mesma classe permitem manipular um endereço, sendo, portanto, fundamentais naquilo que é o desenvolvimento do protótipo pretendido."
   ]
  },
  {
   "cell_type": "code",
   "execution_count": 23,
   "metadata": {},
   "outputs": [],
   "source": [
    "class ADRS:\n",
    "    \n",
    "    WOTS_HASH   = 0\n",
    "    WOTS_PK     = 1\n",
    "    TREE        = 2\n",
    "    FORS_TREE   = 3\n",
    "    FORS_ROOTS  = 4\n",
    "    WOTS_PRF    = 5\n",
    "    FORS_PRF    = 6\n",
    "\n",
    "\n",
    "    def __init__(self, a=32):\n",
    "        self.a = bytearray(a)\n",
    "\n",
    "\n",
    "    def copy(self):\n",
    "        return ADRS(self.a)\n",
    "\n",
    "\n",
    "    def set_layer_address(self, x):\n",
    "        self.a[0 : 4] = x.to_bytes(4, byteorder='big')\n",
    "\n",
    "\n",
    "    def set_tree_address(self, x):\n",
    "        self.a[4 : 16] = x.to_bytes(12, byteorder='big')\n",
    "\n",
    "\n",
    "    def set_key_pair_address(self, x):\n",
    "        self.a[20 : 24] = x.to_bytes(4, byteorder='big')\n",
    "\n",
    "    def get_key_pair_address(self):\n",
    "        return int.from_bytes(self.a[20 : 24], byteorder='big')\n",
    "\n",
    "\n",
    "    def set_tree_height(self, x):\n",
    "        self.a[24 : 28] = x.to_bytes(4, byteorder='big')\n",
    "\n",
    "\n",
    "    def set_chain_address(self, x):\n",
    "        self.a[24 : 28] = x.to_bytes(4, byteorder='big')\n",
    "\n",
    "\n",
    "    def set_tree_index(self, x):\n",
    "        self.a[28 : 32] = x.to_bytes(4, byteorder='big')\n",
    "\n",
    "\n",
    "    def get_tree_index(self):\n",
    "        return int.from_bytes(self.a[28 : 32], byteorder='big')\n",
    "\n",
    "\n",
    "    def set_hash_address(self, x):\n",
    "        self.a[28 : 32] = x.to_bytes(4, byteorder='big')\n",
    "\n",
    "\n",
    "    def set_type_and_clear(self, t):\n",
    "        self.a[16 : 20] = t.to_bytes(4, byteorder='big')\n",
    "        for i in range(12):\n",
    "            self.a[20 + i] = 0\n",
    "\n",
    "\n",
    "    def adrs(self):\n",
    "        return self.a\n",
    "\n",
    "\n",
    "    def adrsc(self):\n",
    "        return self.a[3 : 4] + self.a[8 : 16] + self.a[19 : 20] + self.a[20:32]"
   ]
  },
  {
   "cell_type": "markdown",
   "metadata": {},
   "source": [
    "### Algoritmos"
   ]
  },
  {
   "cell_type": "markdown",
   "metadata": {},
   "source": [
    "Agora, apresentam-se os diversos algoritmos (e outras funções úteis) que constituem o corpo do protótipo apresentado no **FIPS 205**. Adianta-se que todos os algoritmos referidos pertencem à classe **SLHDSA** e que a inicialização da mesma se efetua tendo em conta os parâmetros estabelecidos. Apesar da classe possuir diversas outras funções (algoritmos de *hash*, autenticação, etc.), passam-se a explicar apenas os algoritmos que constituem o mecanismo principal:\n",
    "* **to_int**: função que converte uma *byte string* num inteiro\n",
    "* **to_byte**: função que converte um inteiro numa *byte string*\n",
    "* **base_2b**: algoritmo que computa a representação em base 2<sup>b</sup> de uma *byte string*\n",
    "* **chain**: função de *chain* usada no **WOTS+**\n",
    "* **wots_pkgen**: algoritmo que gera uma chave pública **WOTS+**\n",
    "* **wots_sign**: algoritmo que gera uma assinatura **WOTS+**, através de uma mensagem, em *bytes*\n",
    "* **wots_pk_from_sig**: algoritmo que calcula uma chave pública **WOTS+** através de uma mensagem e da sua assinatura\n",
    "* **xmss_node**: função que calcula a raiz de uma subárvore **Merkle** de chaves públicas **WOTS+**\n",
    "* **xmss_sign**: algoritmo que gera uma assinatura **XMSS**\n",
    "* **xmss_pk_from_sig**: algoritmo que computa uma chave pública **XMSS**, através de uma assinatura **XMSS**\n",
    "* **ht_sign**: algoritmo que gera uma *hypertree signature*\n",
    "* **ht_verify**: função que verifica uma *hypertree signature*\n",
    "* **fors_sk_gen**: função que gera *byte strings* da chave privada **FORS**\n",
    "* **fors_node**: função que calcula a raiz de uma subárvore **Merkle** de valores públicos **FORS**\n",
    "* **fors_sign**: algoritmo que gera uma assinatura **FORS**\n",
    "* **fors_pk_from_sig**: algoritmo que computa uma chave pública **FORS** através de uma assinatura **FORS**\n",
    "* **slh_keygen**: função que gera um par de chaves **SLH-DSA**, privada e pública\n",
    "* **slh_sign**: algoritmo que gera uma assinatura **SLH-DSA**\n",
    "* **slh_verify**: algoritmo que verifica uma assinatura **SLH-DSA**"
   ]
  },
  {
   "cell_type": "code",
   "execution_count": 24,
   "metadata": {},
   "outputs": [],
   "source": [
    "class SLHDSA:\n",
    "\n",
    "    def __init__(self, hashname, paramid, n, h, d, hp, a, k, lg_w, m, rbg=os.urandom):\n",
    "        self.hashname = hashname\n",
    "        self.paramid = paramid\n",
    "        self.n = n\n",
    "        self.h = h\n",
    "        self.d = d\n",
    "        self.hp = hp\n",
    "        self.a = a\n",
    "        self.k = k\n",
    "        self.lg_w = lg_w\n",
    "        self.m = m\n",
    "        self.rbg = rbg\n",
    "        self.algname = 'SPHINCS+'\n",
    "        self.stdname = f'SLH-DSA-{self.hashname}-{8 * self.n}{self.paramid}'\n",
    "\n",
    "        if hashname == 'SHAKE':\n",
    "            self.h_msg = self.shake_h_msg\n",
    "            self.prf = self.shake_prf\n",
    "            self.prf_msg = self.shake_prf_msg\n",
    "            self.h_f = self.shake_f\n",
    "            self.h_h = self.shake_f\n",
    "            self.h_t = self.shake_f\n",
    "\n",
    "        elif hashname == 'SHA2' and self.n == 16:\n",
    "            self.h_msg = self.sha256_h_msg\n",
    "            self.prf = self.sha256_prf\n",
    "            self.prf_msg = self.sha256_prf_msg\n",
    "            self.h_f = self.sha256_f\n",
    "            self.h_h = self.sha256_f\n",
    "            self.h_t = self.sha256_f\n",
    "\n",
    "        elif hashname == 'SHA2' and self.n > 16:\n",
    "            self.h_msg = self.sha512_h_msg\n",
    "            self.prf = self.sha256_prf\n",
    "            self.prf_msg = self.sha512_prf_msg\n",
    "            self.h_f = self.sha256_f\n",
    "            self.h_h = self.sha512_h\n",
    "            self.h_t = self.sha512_h\n",
    "\n",
    "        self.w = 2 ** self.lg_w\n",
    "        self.len1 = (8 * self.n + (self.lg_w - 1)) // self.lg_w\n",
    "        self.len2 = (self.len1 * (self.w - 1)).bit_length() // self.lg_w + 1\n",
    "        self.len = self.len1 + self.len2\n",
    "        self.pk_sz = 2 * self.n\n",
    "        self.sk_sz = 4 * self.n\n",
    "        self.sig_sz = (1 + self.k*(1 + self.a) + self.h + self.d * self.len) * self.n\n",
    "\n",
    "\n",
    "    def shake256(self, x, l):\n",
    "        return SHAKE256.new(x).read(l)\n",
    "\n",
    "\n",
    "    def shake_h_msg(self, r, pk_seed, pk_root, m):\n",
    "        return self.shake256(r + pk_seed + pk_root + m, self.m)\n",
    "\n",
    "\n",
    "    def shake_prf(self, pk_seed, sk_seed, adrs):\n",
    "        return self.shake256(pk_seed + adrs.adrs() + sk_seed, self.n)\n",
    "\n",
    "\n",
    "    def shake_prf_msg(self, sk_prf, opt_rand, m):\n",
    "        return self.shake256(sk_prf + opt_rand + m, self.n)\n",
    "\n",
    "\n",
    "    def shake_f(self, pk_seed, adrs, m1):\n",
    "        return self.shake256(pk_seed + adrs.adrs() + m1, self.n)\n",
    "\n",
    "\n",
    "    def sha256(self, x, n=32):\n",
    "        return SHA256.new(x).digest()[0 : n]\n",
    "\n",
    "\n",
    "    def sha512(self, x, n=64):\n",
    "        return SHA512.new(x).digest()[0 : n]\n",
    "\n",
    "\n",
    "    def mgf(self, hash_f, hash_l, mgf_seed, mask_len):\n",
    "        t = b''\n",
    "\n",
    "        for c in range((mask_len + hash_l - 1) // hash_l):\n",
    "            t += hash_f(mgf_seed + c.to_bytes(4, byteorder='big'))\n",
    "\n",
    "        return t[0 : mask_len]\n",
    "\n",
    "\n",
    "    def mgf_sha256(self, mgf_seed, mask_len):\n",
    "        return self.mgf(self.sha256, 32, mgf_seed, mask_len)\n",
    "\n",
    "\n",
    "    def mgf_sha512(self, mgf_seed, mask_len):\n",
    "        return self.mgf(self.sha512, 64, mgf_seed, mask_len)\n",
    "\n",
    "\n",
    "    def hmac(self, hash_f, hash_l, hash_b, k, text):\n",
    "        if len(k) > hash_b:\n",
    "            k = hash_f(k)\n",
    "\n",
    "        ipad = bytearray(hash_b)\n",
    "        ipad[0 : len(k)] = k\n",
    "        opad = bytearray(ipad)\n",
    "\n",
    "        for i in range(hash_b):\n",
    "            ipad[i] ^= 0x36\n",
    "            opad[i] ^= 0x5C\n",
    "\n",
    "        return hash_f(opad + hash_f(ipad + text))\n",
    "\n",
    "\n",
    "    def hmac_sha256(self, k, text, n=32):\n",
    "        return self.hmac(self.sha256, 32, 64, k, text)[0 : n]\n",
    "\n",
    "\n",
    "    def hmac_sha512(self, k, text, n=64):\n",
    "        return self.hmac(self.sha512, 64, 128, k, text)[0 : n]\n",
    "\n",
    "\n",
    "    def sha256_h_msg(self, r, pk_seed, pk_root, m):\n",
    "        return self.mgf_sha256(r + pk_seed + self.sha256(r + pk_seed + pk_root + m), self.m)\n",
    "\n",
    "\n",
    "    def sha256_prf(self, pk_seed, sk_seed, adrs):\n",
    "        return self.sha256(pk_seed + bytes(64 - self.n) + adrs.adrsc() + sk_seed, self.n)\n",
    "\n",
    "\n",
    "    def sha256_prf_msg(self, sk_prf, opt_rand, m):\n",
    "        return self.hmac_sha256(sk_prf, opt_rand + m, self.n)\n",
    "\n",
    "\n",
    "    def sha256_f(self, pk_seed, adrs, m1):\n",
    "        return self.sha256(pk_seed + bytes(64 - self.n) + adrs.adrsc() + m1, self.n)\n",
    "\n",
    "\n",
    "    def sha512_h_msg(self, r, pk_seed, pk_root, m):\n",
    "        return self.mgf_sha512( r + pk_seed + self.sha512(r + pk_seed + pk_root + m), self.m)\n",
    "\n",
    "\n",
    "    def sha512_prf_msg(self, sk_prf, opt_rand, m):\n",
    "        return self.hmac_sha512(sk_prf, opt_rand + m, self.n)\n",
    "\n",
    "\n",
    "    def sha512_h(self, pk_seed, adrs, m2):\n",
    "        return self.sha512(pk_seed + bytes(128 - self.n) + adrs.adrsc() + m2, self.n)\n",
    "    \n",
    "\n",
    "    def split_digest(self, digest):\n",
    "        ka1 = (self.k * self.a + 7) // 8\n",
    "        md = digest[0 : ka1]\n",
    "        hd = self.h // self.d\n",
    "        hhd = self.h - hd\n",
    "        ka2 = ka1 + ((hhd + 7) // 8)\n",
    "        i_tree = self.to_int(digest[ka1 : ka2], (hhd + 7) // 8) % (2 ** hhd)\n",
    "        ka3 = ka2 + ((hd + 7) // 8)\n",
    "        i_leaf = self.to_int(digest[ka2 : ka3], (hd + 7) // 8) % (2 ** hd)\n",
    "\n",
    "        return md, i_tree, i_leaf\n",
    "\n",
    "\n",
    "    def to_int(self, X, n):\n",
    "        total = 0\n",
    "\n",
    "        for i in range(n):\n",
    "            total = (total << 8) + int(X[i])\n",
    "\n",
    "        return total\n",
    "\n",
    "\n",
    "    def to_byte(self, x, n):\n",
    "        total = x\n",
    "        S = bytearray(n)\n",
    "\n",
    "        for i in range(n):\n",
    "            S[n - 1 - i] = total & 0xFF\n",
    "            total >>= 8\n",
    "\n",
    "        return S\n",
    "\n",
    "\n",
    "    def base_2b(self, X, b, out_len):\n",
    "        i = 0\n",
    "        bits = 0\n",
    "        total = 0\n",
    "        baseb = []\n",
    "        m = (1 << b) - 1\n",
    "\n",
    "        for _ in range(out_len):\n",
    "            while bits < b:\n",
    "                total = (total << 8) + int(X[i])\n",
    "                i += 1\n",
    "                bits += 8\n",
    "            bits -= b\n",
    "            baseb += [(total >> bits) & m]\n",
    "\n",
    "        return baseb\n",
    "\n",
    "\n",
    "    def chain(self, X, i, s, PK_seed, ADRS):\n",
    "        if i + s >= self.w:\n",
    "            return None\n",
    "        \n",
    "        tmp = X\n",
    "        for j in range(i, i + s):\n",
    "            ADRS.set_hash_address(j)\n",
    "            tmp = self.h_f(PK_seed, ADRS, tmp)\n",
    "\n",
    "        return tmp\n",
    "\n",
    "\n",
    "    def wots_pkgen(self, SK_seed, PK_seed, adrs):\n",
    "        skADRS = adrs.copy()\n",
    "        skADRS.set_type_and_clear(ADRS.WOTS_PRF)\n",
    "        skADRS.set_key_pair_address(adrs.get_key_pair_address())\n",
    "\n",
    "        tmp = b''\n",
    "        for i in range(self.len):\n",
    "            skADRS.set_chain_address(i)\n",
    "            sk = self.prf(PK_seed, SK_seed, skADRS)\n",
    "            adrs.set_chain_address(i)\n",
    "            tmp += self.chain(sk, 0, self.w - 1, PK_seed, adrs)\n",
    "\n",
    "        wotspkADRS = adrs.copy()\n",
    "        wotspkADRS.set_type_and_clear(ADRS.WOTS_PK)\n",
    "        wotspkADRS.set_key_pair_address(adrs.get_key_pair_address())\n",
    "        pk = self.h_t(PK_seed, wotspkADRS, tmp)\n",
    "\n",
    "        return pk\n",
    "    \n",
    "\n",
    "    def wots_sign(self, m, SKseed, PKseed, adrs):\n",
    "        csum =   0\n",
    "        msg = self.base_2b(m, self.lg_w, self.len1)\n",
    "\n",
    "        for i in range(self.len1):\n",
    "            csum += self.w - 1 - msg[i]\n",
    "\n",
    "        csum <<= ((8 - ((self.len2 * self.lg_w) % 8)) % 8)\n",
    "        msg += self.base_2b(self.to_byte(csum, (self.len2 * self.lg_w + 7) // 8), self.lg_w, self.len2)\n",
    "\n",
    "        skADRS = adrs.copy()\n",
    "        skADRS.set_type_and_clear(ADRS.WOTS_PRF)\n",
    "        skADRS.set_key_pair_address(adrs.get_key_pair_address())\n",
    "\n",
    "        sig = b''\n",
    "        for i in range(self.len):\n",
    "            skADRS.set_chain_address(i)\n",
    "            sk = self.prf(PKseed, SKseed, skADRS)\n",
    "            adrs.set_chain_address(i)\n",
    "            sig += self.chain(sk, 0, msg[i], PKseed, adrs)\n",
    "\n",
    "        return sig\n",
    "    \n",
    "\n",
    "    def wots_pk_from_sig(self, sig, m, PKseed, adrs):\n",
    "        csum = 0\n",
    "        msg = self.base_2b(m, self.lg_w, self.len1)\n",
    "\n",
    "        for i in range(self.len1):\n",
    "            csum += self.w - 1 - msg[i]\n",
    "\n",
    "        csum <<= ((8 - ((self.len2 * self.lg_w) % 8)) % 8)\n",
    "        msg +=  self.base_2b(self.to_byte(csum, (self.len2 * self.lg_w + 7) // 8), self.lg_w, self.len2)\n",
    "\n",
    "        tmp = b''\n",
    "        for i in range(self.len):\n",
    "            adrs.set_chain_address(i)\n",
    "            tmp +=  self.chain(sig[i*self.n:(i+1)*self.n], msg[i], self.w - 1 - msg[i], PKseed, adrs)\n",
    "\n",
    "        wotspkADRS = adrs.copy()\n",
    "        wotspkADRS.set_type_and_clear(ADRS.WOTS_PK)\n",
    "        wotspkADRS.set_key_pair_address(adrs.get_key_pair_address())\n",
    "\n",
    "        pksig = self.h_t(PKseed, wotspkADRS, tmp)\n",
    "\n",
    "        return  pksig\n",
    "\n",
    "\n",
    "    def xmss_node(self, SKseed, i, z, PKseed, adrs):\n",
    "        if z > self.hp or i >= 2 ** (self.hp - z):\n",
    "            return None\n",
    "        \n",
    "        if z == 0:\n",
    "            adrs.set_type_and_clear(ADRS.WOTS_HASH)\n",
    "            adrs.set_key_pair_address(i)\n",
    "            node = self.wots_pkgen(SKseed, PKseed, adrs)\n",
    "\n",
    "        else:\n",
    "            lnode = self.xmss_node(SKseed, 2 * i, z - 1, PKseed, adrs)\n",
    "            rnode = self.xmss_node(SKseed, 2 * i + 1, z - 1, PKseed, adrs)\n",
    "\n",
    "            adrs.set_type_and_clear(ADRS.TREE)\n",
    "            adrs.set_tree_height(z)\n",
    "            adrs.set_tree_index(i)\n",
    "\n",
    "            node = self.h_h(PKseed, adrs, lnode + rnode)\n",
    "\n",
    "        return node\n",
    "\n",
    "\n",
    "    def xmss_sign(self, m, SKseed, idx, PKseed, adrs):\n",
    "        auth = b''\n",
    "        for j in range(self.hp):\n",
    "            k = (idx >> j) ^ 1\n",
    "            auth += self.xmss_node(SKseed, k, j, PKseed, adrs)\n",
    "\n",
    "        adrs.set_type_and_clear(ADRS.WOTS_HASH)\n",
    "        adrs.set_key_pair_address(idx)\n",
    "\n",
    "        sig = self.wots_sign(m, SKseed, PKseed, adrs)\n",
    "        SIGxmss = sig + auth\n",
    "\n",
    "        return SIGxmss\n",
    "    \n",
    "\n",
    "    def xmss_pk_from_sig(self, idx, SIGxmss, m, PKseed, adrs):\n",
    "        adrs.set_type_and_clear(ADRS.WOTS_HASH)\n",
    "        adrs.set_key_pair_address(idx)\n",
    "\n",
    "        sig = SIGxmss[0 : self.len * self.n]\n",
    "        AUTH = SIGxmss[self.len * self.n:]\n",
    "        node_0 = self.wots_pk_from_sig(sig, m, PKseed, adrs)\n",
    "\n",
    "        adrs.set_type_and_clear(ADRS.TREE)\n",
    "        adrs.set_tree_index(idx)\n",
    "\n",
    "        for k in range(self.hp):\n",
    "            adrs.set_tree_height(k + 1)\n",
    "            auth_k = AUTH[k * self.n : (k + 1) * self.n]\n",
    "\n",
    "            if (idx >> k) & 1 == 0:\n",
    "                adrs.set_tree_index(adrs.get_tree_index() // 2)\n",
    "                node_1 = self.h_h(PKseed, adrs, node_0 + auth_k)\n",
    "\n",
    "            else:\n",
    "                adrs.set_tree_index((adrs.get_tree_index() - 1) // 2)\n",
    "                node_1 = self.h_h(PKseed, adrs, auth_k + node_0)\n",
    "            node_0 = node_1\n",
    "\n",
    "        return node_0\n",
    "\n",
    "\n",
    "    def ht_sign(self, m, SKseed, PKseed, i_tree, i_leaf):\n",
    "        adrs = ADRS()\n",
    "        adrs.set_tree_address(i_tree)\n",
    "        \n",
    "        SIGtmp = self.xmss_sign(m, SKseed, i_leaf, PKseed, adrs)\n",
    "        SIGht  = SIGtmp\n",
    "        root = self.xmss_pk_from_sig(i_leaf, SIGtmp, m, PKseed, adrs)\n",
    "        hp_m = ((1 << self.hp) - 1)\n",
    "\n",
    "        for j in range(1, self.d):\n",
    "            i_leaf = i_tree & hp_m\n",
    "            i_tree = i_tree >> self.hp\n",
    "\n",
    "            adrs.set_layer_address(j)\n",
    "            adrs.set_tree_address(i_tree)\n",
    "\n",
    "            SIGtmp = self.xmss_sign(root, SKseed, i_leaf, PKseed, adrs)\n",
    "            SIGht += SIGtmp\n",
    "\n",
    "            if j < self.d - 1:\n",
    "                root = self.xmss_pk_from_sig(i_leaf, SIGtmp, root, PKseed, adrs)\n",
    "\n",
    "        return SIGht\n",
    "    \n",
    "\n",
    "    def ht_verify(self, m, SIGht, PKseed, i_tree, i_leaf, PKroot):\n",
    "        adrs = ADRS()\n",
    "        adrs.set_tree_address(i_tree)\n",
    "\n",
    "        sig_tmp = SIGht[0 : (self.hp + self.len) * self.n]\n",
    "        node = self.xmss_pk_from_sig(i_leaf, sig_tmp, m, PKseed, adrs)\n",
    "\n",
    "        hp_m = ((1 << self.hp) - 1)\n",
    "        for j in range(1, self.d):\n",
    "            i_leaf = i_tree & hp_m\n",
    "            i_tree = i_tree >> self.hp\n",
    "\n",
    "            adrs.set_layer_address(j)\n",
    "            adrs.set_tree_address(i_tree)\n",
    "\n",
    "            sig_tmp = SIGht[j*(self.hp + self.len) * self.n : (j + 1) * (self.hp + self.len) * self.n]\n",
    "            node = self.xmss_pk_from_sig(i_leaf, sig_tmp, node, PKseed, adrs)\n",
    "\n",
    "        return node == PKroot\n",
    "\n",
    "\n",
    "    def fors_sk_gen(self, SKseed, PKseed, adrs, idx):\n",
    "        sk_adrs = adrs.copy()\n",
    "        sk_adrs.set_type_and_clear(ADRS.FORS_PRF)\n",
    "        sk_adrs.set_key_pair_address(adrs.get_key_pair_address())\n",
    "        sk_adrs.set_tree_index(idx)\n",
    "\n",
    "        return self.prf(PKseed, SKseed, sk_adrs)\n",
    "\n",
    "\n",
    "    def fors_node(self, SKseed, i, z, PKseed, adrs):\n",
    "        if z > self.a or i >= (self.k << (self.a - z)):\n",
    "            return None\n",
    "        \n",
    "        if z == 0:\n",
    "            sk = self.fors_sk_gen(SKseed, PKseed, adrs, i)\n",
    "            adrs.set_tree_height(0)\n",
    "            adrs.set_tree_index(i)\n",
    "            node = self.h_f(PKseed, adrs, sk)\n",
    "\n",
    "        else:\n",
    "            lnode = self.fors_node(SKseed, 2 * i, z - 1, PKseed, adrs)\n",
    "            rnode = self.fors_node(SKseed, 2 * i + 1, z - 1, PKseed, adrs)\n",
    "            adrs.set_tree_height(z)\n",
    "            adrs.set_tree_index(i)\n",
    "            node = self.h_h(PKseed, adrs, lnode + rnode)\n",
    "\n",
    "        return node\n",
    "\n",
    "\n",
    "    def fors_sign(self, md, SKseed, PKseed, adrs):\n",
    "        sig_fors = b''\n",
    "        indices = self.base_2b(md, self.a, self.k)\n",
    "\n",
    "        for i in range(self.k):\n",
    "            sig_fors += self.fors_sk_gen(SKseed, PKseed, adrs, (i << self.a) + indices[i])\n",
    "\n",
    "            for j in range(self.a):\n",
    "                s = (indices[i] >> j) ^ 1\n",
    "                sig_fors += self.fors_node(SKseed, (i << (self.a - j)) + s, j, PKseed, adrs)\n",
    "\n",
    "        return sig_fors\n",
    "\n",
    "\n",
    "    def fors_pk_from_sig(self, SIGfors, md, PKseed, adrs):\n",
    "\n",
    "        def get_sk(sig_fors, i):\n",
    "            return sig_fors[i * (self.a + 1) * self.n : (i * (self.a + 1) + 1) * self.n]\n",
    "\n",
    "        def get_auth(sig_fors, i):\n",
    "            return sig_fors[(i * (self.a + 1) + 1) * self.n : (i + 1) * (self.a + 1) * self.n]\n",
    "\n",
    "        indices = self.base_2b(md, self.a, self.k)\n",
    "\n",
    "        root = b''\n",
    "        for i in range(self.k):\n",
    "            sk = get_sk(SIGfors, i)\n",
    "            adrs.set_tree_height(0)\n",
    "            adrs.set_tree_index((i << self.a) + indices[i])\n",
    "            node_0 = self.h_f(PKseed, adrs, sk)\n",
    "\n",
    "            auth = get_auth(SIGfors, i)\n",
    "            for j in range(self.a):\n",
    "                auth_j = auth[j * self.n : (j + 1) * self.n]\n",
    "                adrs.set_tree_height(j + 1)\n",
    "\n",
    "                if (indices[i] >> j) & 1 == 0:\n",
    "                    adrs.set_tree_index(adrs.get_tree_index() // 2)\n",
    "                    node_1 = self.h_h(PKseed, adrs, node_0 + auth_j)\n",
    "\n",
    "                else:\n",
    "                    adrs.set_tree_index((adrs.get_tree_index() - 1) // 2)\n",
    "                    node_1 = self.h_h(PKseed, adrs, auth_j + node_0)\n",
    "\n",
    "                node_0 = node_1\n",
    "\n",
    "            root += node_0\n",
    "\n",
    "        fors_pk_adrs = adrs.copy()\n",
    "        fors_pk_adrs.set_type_and_clear(ADRS.FORS_ROOTS)\n",
    "        fors_pk_adrs.set_key_pair_address(adrs.get_key_pair_address())\n",
    "\n",
    "        pk = self.h_t(PKseed, fors_pk_adrs, root)\n",
    "\n",
    "        return pk\n",
    "\n",
    "\n",
    "    def slh_keygen(self):\n",
    "        seed = self.rbg(3 * self.n)\n",
    "        sk_seed = seed[0 : self.n]\n",
    "        sk_prf = seed[self.n : 2 * self.n]\n",
    "        pk_seed = seed[2 * self.n:]\n",
    "        adrs = ADRS()\n",
    "        adrs.set_layer_address(self.d - 1)\n",
    "        pk_root = self.xmss_node(sk_seed, 0, self.hp, pk_seed, adrs)\n",
    "        sk = sk_seed + sk_prf + pk_seed + pk_root\n",
    "        pk = pk_seed + pk_root\n",
    "\n",
    "        return sk, pk\n",
    "\n",
    "\n",
    "    def slh_sign(self, m, sk, randomize=True):\n",
    "        adrs = ADRS()\n",
    "        sk_seed = sk[0 : self.n]\n",
    "        sk_prf  = sk[self.n : 2 * self.n]\n",
    "        pk_seed = sk[2 * self.n : 3 * self.n]\n",
    "        pk_root = sk[3 * self.n:]\n",
    "\n",
    "        opt_rand = pk_seed\n",
    "        if randomize:\n",
    "            opt_rand = self.rbg(self.n)\n",
    "\n",
    "        r = self.prf_msg(sk_prf, opt_rand, m)\n",
    "        sig = r\n",
    "\n",
    "        digest = self.h_msg(r, pk_seed, pk_root, m)\n",
    "        md, i_tree, i_leaf = self.split_digest(digest)\n",
    "\n",
    "        adrs.set_tree_address(i_tree)\n",
    "        adrs.set_type_and_clear(ADRS.FORS_TREE)\n",
    "        adrs.set_key_pair_address(i_leaf)\n",
    "\n",
    "        sig_fors = self.fors_sign(md, sk_seed, pk_seed, adrs)\n",
    "        sig += sig_fors\n",
    "\n",
    "        pk_fors = self.fors_pk_from_sig(sig_fors, md, pk_seed, adrs)\n",
    "        sig_ht = self.ht_sign(pk_fors, sk_seed, pk_seed, i_tree, i_leaf)\n",
    "        sig += sig_ht\n",
    "\n",
    "        return  sig\n",
    "\n",
    "\n",
    "    def slh_verify(self, m, sig, pk):\n",
    "        if len(sig) != self.sig_sz or len(pk) != self.pk_sz:\n",
    "            return False\n",
    "\n",
    "        pk_seed = pk[:self.n]\n",
    "        pk_root = pk[self.n:]\n",
    "\n",
    "        adrs = ADRS()\n",
    "        r = sig[0 : self.n]\n",
    "        sig_fors = sig[self.n : (1 + self.k * (1 + self.a)) * self.n]\n",
    "        sig_ht = sig[(1 + self.k * (1 + self.a)) * self.n:]\n",
    "\n",
    "        digest  = self.h_msg(r, pk_seed, pk_root, m)\n",
    "        (md, i_tree, i_leaf) = self.split_digest(digest)\n",
    "\n",
    "        adrs.set_tree_address(i_tree)\n",
    "        adrs.set_type_and_clear(ADRS.FORS_TREE)\n",
    "        adrs.set_key_pair_address(i_leaf)\n",
    "\n",
    "        pk_fors = self.fors_pk_from_sig(sig_fors, md, pk_seed, adrs)\n",
    "        \n",
    "        return self.ht_verify(pk_fors, sig_ht, pk_seed, i_tree, i_leaf, pk_root)"
   ]
  },
  {
   "cell_type": "markdown",
   "metadata": {},
   "source": [
    "### Testes de aplicação"
   ]
  },
  {
   "cell_type": "markdown",
   "metadata": {},
   "source": [
    "Para efeitos de teste, desenvolveu-se a função **slh_dsa_test**, responsável por, através dos respetivos parâmetros, dependendo do conjunto pretendido, geras as chaves, privada e pública, assinar uma mensagem e verificar a respetiva assinatura."
   ]
  },
  {
   "cell_type": "code",
   "execution_count": 25,
   "metadata": {},
   "outputs": [],
   "source": [
    "def slh_dsa_test(security):\n",
    "    alg = None\n",
    "\n",
    "    if security == 'SLH-DSA-SHA2-128s':\n",
    "        alg = SLHDSA('SHA2', 's', 16, 63, 7, 9, 12, 14, 4, 30)\n",
    "\n",
    "    elif security == 'SLH-DSA-SHAKE-128s':\n",
    "        alg = SLHDSA('SHAKE', 's', 16, 63, 7, 9, 12, 14, 4, 30)\n",
    "\n",
    "    elif security == 'SLH-DSA-SHA2-128f':\n",
    "        alg = SLHDSA('SHA2', 'f', 16, 66, 22, 3, 6, 33, 4, 34)\n",
    "\n",
    "    elif security == 'SLH-DSA-SHAKE-128f':\n",
    "        alg = SLHDSA('SHAKE', 'f', 16, 66, 22, 3, 6, 33, 4, 34)\n",
    "\n",
    "    elif security == 'SLH-DSA-SHA2-192s':\n",
    "        alg = SLHDSA('SHA2', 's', 24, 63, 7, 9, 14, 17, 4, 39)\n",
    "\n",
    "    elif security == 'SLH-DSA-SHAKE-192s':\n",
    "        alg = SLHDSA('SHAKE', 's', 24, 63, 7, 9, 14, 17, 4, 39)\n",
    "\n",
    "    elif security == 'SLH-DSA-SHA2-192f':\n",
    "        alg = SLHDSA('SHA2', 'f', 24, 66, 22, 3, 8, 33, 4, 42)\n",
    "\n",
    "    elif security == 'SLH-DSA-SHAKE-192f':\n",
    "        alg = SLHDSA('SHAKE', 'f', 24, 66, 22, 3, 8, 33, 4, 42)\n",
    "\n",
    "    elif security == 'SLH-DSA-SHA2-256s':\n",
    "        alg = SLHDSA('SHA2', 's', 32, 64, 8, 8, 14, 22, 4, 47)\n",
    "\n",
    "    elif security == 'SLH-DSA-SHAKE-256s':\n",
    "        alg = SLHDSA('SHAKE', 's', 32, 64, 8, 8, 14, 22, 4, 47)\n",
    "\n",
    "    elif security == 'SLH-DSA-SHA2-256f':\n",
    "        alg = SLHDSA('SHA2', 'f', 32, 68, 17, 4, 9, 35, 4, 49)\n",
    "\n",
    "    elif security == 'SLH-DSA-SHAKE-256f':\n",
    "        alg = SLHDSA('SHAKE', 'f', 32, 68, 17, 4, 9, 35, 4, 49)\n",
    "        \n",
    "    else:\n",
    "        print('[SLH-DSA] invalid call')\n",
    "        return\n",
    "    \n",
    "\n",
    "    sk, pk = alg.slh_keygen()\n",
    "    m = b\"Messi, the GOAT!\"\n",
    "    sig = alg.slh_sign(m, sk)\n",
    "    verify = alg.slh_verify(m, sig, pk)\n",
    "\n",
    "    if verify == True:\n",
    "        print(f'[SLH-DSA] ({security}) valid signature')\n",
    "\n",
    "    else:\n",
    "        print(f'[SLH-DSA] ({security}) invalid signature')"
   ]
  },
  {
   "cell_type": "markdown",
   "metadata": {},
   "source": [
    "#### SLH-DSA-SHA2-128s"
   ]
  },
  {
   "cell_type": "code",
   "execution_count": 26,
   "metadata": {},
   "outputs": [
    {
     "name": "stdout",
     "output_type": "stream",
     "text": [
      "[SLH-DSA] (SLH-DSA-SHA2-128s) valid signature\n"
     ]
    }
   ],
   "source": [
    "slh_dsa_test('SLH-DSA-SHA2-128s')"
   ]
  },
  {
   "cell_type": "markdown",
   "metadata": {},
   "source": [
    "#### SLH-DSA-SHAKE-128s"
   ]
  },
  {
   "cell_type": "code",
   "execution_count": 27,
   "metadata": {},
   "outputs": [
    {
     "name": "stdout",
     "output_type": "stream",
     "text": [
      "[SLH-DSA] (SLH-DSA-SHAKE-128s) valid signature\n"
     ]
    }
   ],
   "source": [
    "slh_dsa_test('SLH-DSA-SHAKE-128s')"
   ]
  },
  {
   "cell_type": "markdown",
   "metadata": {},
   "source": [
    "#### SLH-DSA-SHA2-128f"
   ]
  },
  {
   "cell_type": "code",
   "execution_count": 28,
   "metadata": {},
   "outputs": [
    {
     "name": "stdout",
     "output_type": "stream",
     "text": [
      "[SLH-DSA] (SLH-DSA-SHA2-128f) valid signature\n"
     ]
    }
   ],
   "source": [
    "slh_dsa_test('SLH-DSA-SHA2-128f')"
   ]
  },
  {
   "cell_type": "markdown",
   "metadata": {},
   "source": [
    "#### SLH-DSA-SHAKE-128f"
   ]
  },
  {
   "cell_type": "code",
   "execution_count": 29,
   "metadata": {},
   "outputs": [
    {
     "name": "stdout",
     "output_type": "stream",
     "text": [
      "[SLH-DSA] (SLH-DSA-SHAKE-128f) valid signature\n"
     ]
    }
   ],
   "source": [
    "slh_dsa_test('SLH-DSA-SHAKE-128f')"
   ]
  },
  {
   "cell_type": "markdown",
   "metadata": {},
   "source": [
    "#### SLH-DSA-SHA2-192s"
   ]
  },
  {
   "cell_type": "code",
   "execution_count": 30,
   "metadata": {},
   "outputs": [
    {
     "name": "stdout",
     "output_type": "stream",
     "text": [
      "[SLH-DSA] (SLH-DSA-SHA2-192s) valid signature\n"
     ]
    }
   ],
   "source": [
    "slh_dsa_test('SLH-DSA-SHA2-192s')"
   ]
  },
  {
   "cell_type": "markdown",
   "metadata": {},
   "source": [
    "#### SLH-DSA-SHAKE-192s"
   ]
  },
  {
   "cell_type": "code",
   "execution_count": 31,
   "metadata": {},
   "outputs": [
    {
     "name": "stdout",
     "output_type": "stream",
     "text": [
      "[SLH-DSA] (SLH-DSA-SHAKE-192s) valid signature\n"
     ]
    }
   ],
   "source": [
    "slh_dsa_test('SLH-DSA-SHAKE-192s')"
   ]
  },
  {
   "cell_type": "markdown",
   "metadata": {},
   "source": [
    "#### SLH-DSA-SHA2-192f"
   ]
  },
  {
   "cell_type": "code",
   "execution_count": 32,
   "metadata": {},
   "outputs": [
    {
     "name": "stdout",
     "output_type": "stream",
     "text": [
      "[SLH-DSA] (SLH-DSA-SHA2-192f) valid signature\n"
     ]
    }
   ],
   "source": [
    "slh_dsa_test('SLH-DSA-SHA2-192f')"
   ]
  },
  {
   "cell_type": "markdown",
   "metadata": {},
   "source": [
    "#### SLH-DSA-SHAKE-192f"
   ]
  },
  {
   "cell_type": "code",
   "execution_count": 33,
   "metadata": {},
   "outputs": [
    {
     "name": "stdout",
     "output_type": "stream",
     "text": [
      "[SLH-DSA] (SLH-DSA-SHAKE-192f) valid signature\n"
     ]
    }
   ],
   "source": [
    "slh_dsa_test('SLH-DSA-SHAKE-192f')"
   ]
  },
  {
   "cell_type": "markdown",
   "metadata": {},
   "source": [
    "#### SLH-DSA-SHA2-256s"
   ]
  },
  {
   "cell_type": "code",
   "execution_count": 34,
   "metadata": {},
   "outputs": [
    {
     "name": "stdout",
     "output_type": "stream",
     "text": [
      "[SLH-DSA] (SLH-DSA-SHA2-256s) valid signature\n"
     ]
    }
   ],
   "source": [
    "slh_dsa_test('SLH-DSA-SHA2-256s')"
   ]
  },
  {
   "cell_type": "markdown",
   "metadata": {},
   "source": [
    "#### SLH-DSA-SHAKE-256s"
   ]
  },
  {
   "cell_type": "code",
   "execution_count": 35,
   "metadata": {},
   "outputs": [
    {
     "name": "stdout",
     "output_type": "stream",
     "text": [
      "[SLH-DSA] (SLH-DSA-SHAKE-256s) valid signature\n"
     ]
    }
   ],
   "source": [
    "slh_dsa_test('SLH-DSA-SHAKE-256s')"
   ]
  },
  {
   "cell_type": "markdown",
   "metadata": {},
   "source": [
    "#### SLH-DSA-SHA2-256f"
   ]
  },
  {
   "cell_type": "code",
   "execution_count": 36,
   "metadata": {},
   "outputs": [
    {
     "name": "stdout",
     "output_type": "stream",
     "text": [
      "[SLH-DSA] (SLH-DSA-SHA2-256f) valid signature\n"
     ]
    }
   ],
   "source": [
    "slh_dsa_test('SLH-DSA-SHA2-256f')"
   ]
  },
  {
   "cell_type": "markdown",
   "metadata": {},
   "source": [
    "#### SLH-DSA-SHAKE-256f"
   ]
  },
  {
   "cell_type": "code",
   "execution_count": 37,
   "metadata": {},
   "outputs": [
    {
     "name": "stdout",
     "output_type": "stream",
     "text": [
      "[SLH-DSA] (SLH-DSA-SHAKE-256f) valid signature\n"
     ]
    }
   ],
   "source": [
    "slh_dsa_test('SLH-DSA-SHAKE-256f')"
   ]
  },
  {
   "cell_type": "markdown",
   "metadata": {},
   "source": [
    "#### Invalid parameter set"
   ]
  },
  {
   "cell_type": "code",
   "execution_count": 38,
   "metadata": {},
   "outputs": [
    {
     "name": "stdout",
     "output_type": "stream",
     "text": [
      "[SLH-DSA] invalid call\n"
     ]
    }
   ],
   "source": [
    "slh_dsa_test('SLH-DSA-LIONEL-MESSI')"
   ]
  }
 ],
 "metadata": {
  "kernelspec": {
   "display_name": "base",
   "language": "python",
   "name": "python3"
  },
  "language_info": {
   "codemirror_mode": {
    "name": "ipython",
    "version": 3
   },
   "file_extension": ".py",
   "mimetype": "text/x-python",
   "name": "python",
   "nbconvert_exporter": "python",
   "pygments_lexer": "ipython3",
   "version": "3.10.14"
  }
 },
 "nbformat": 4,
 "nbformat_minor": 2
}
