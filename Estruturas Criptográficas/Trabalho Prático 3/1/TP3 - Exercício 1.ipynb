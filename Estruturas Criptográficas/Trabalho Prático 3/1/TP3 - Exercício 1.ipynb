{
 "cells": [
  {
   "cell_type": "markdown",
   "metadata": {},
   "source": [
    "# Estruturas Criptográficas\n",
    "## Trabalho Prático 3 - Exercício 1\n",
    "### José de Matos Moreira - PG53963\n",
    "### Pedro Freitas - PG52700"
   ]
  },
  {
   "cell_type": "markdown",
   "metadata": {},
   "source": [
    "## Enunciado do problema\n",
    "No capítulo 5 dos apontamentos, é descrito o chamado **Hidden Number Problem**. No capítulo 8 dos apontamentos, é discutido um artigo de **Nguyen & Shparlinsk**, onde se propõem reduções do **HNP** a problemas difíceis em reticulados. Neste trabalho, pretende-se construir, com a ajuda do **Sagemath**, uma implementação da solução discutida nos apontamentos para resolver o **HNP** com soluções aproximadas dos problemas em reticulados."
   ]
  },
  {
   "cell_type": "markdown",
   "metadata": {},
   "source": [
    "## Resolução"
   ]
  },
  {
   "cell_type": "markdown",
   "metadata": {},
   "source": [
    "Todo o código foi desenvolvido com base na íntegra dos apontamentos referidos no enunciado do problema. Desta forma, passa-se, então, a explicar as diversas funções utilizadas durante a realização do exercício proposto:\n",
    "* **msb_k**: função que extrai, sob a forma de um inteiro positivo, os k *bits* mais significativos do argumento\n",
    "* **generate_pairs**: algoritmo que gera os pares que obedecem à regra u​<sub>i</sub> ​= msb​<sub>k</sub>​​(⌊s × x<sub>i</sub>​​⌋​<sub>p</sub>​​) para todo i = 1..n\n",
    "* **build_lattice**: algoritmo que produz o reticulado, a partir da matriz geradora G​' ∈ Q<sup>​m × m</sup>, com m = n + 2, sendo n a dimensão dos pares gerados\n",
    "* **reduce_lattice**: função responsável por aplicar a redução ao reticulado\n",
    "* **find_secret**: algoritmo com a capacidade de recuperar o segredo"
   ]
  },
  {
   "cell_type": "code",
   "execution_count": 24,
   "metadata": {},
   "outputs": [],
   "source": [
    "def msb_k(y, B):\n",
    "    return y // B\n",
    "\n",
    "\n",
    "def generate_pairs(n, p, s, B):\n",
    "    pairs = []\n",
    "    for _ in range(n):\n",
    "        x_i = randint(0, p - 1)\n",
    "        u_i = msb_k((s * x_i) % p, B)\n",
    "        pairs.append((x_i, u_i))\n",
    "\n",
    "    return pairs\n",
    "\n",
    "\n",
    "def build_lattice(xs, us, A, n, p, lmbda, B):\n",
    "    basis_vectors = []\n",
    "\n",
    "    for i in range(n):\n",
    "        vector = [0] * (n + 2)\n",
    "        vector[i] = p\n",
    "        basis_vectors.append(vector)\n",
    "\n",
    "    basis_vectors.append(xs + [A] + [0])\n",
    "\n",
    "    M = lmbda * p\n",
    "    basis_vectors.append([-B * u for u in us] + [0] + [M])\n",
    "\n",
    "    return Matrix(QQ, basis_vectors)\n",
    "\n",
    "\n",
    "def reduce_lattice(lattice):\n",
    "    return lattice.LLL()\n",
    "\n",
    "\n",
    "def find_secret(reduced_lattice, lmbda, p):\n",
    "    return (reduced_lattice[-1][-2] * lmbda).ceil() % p"
   ]
  },
  {
   "cell_type": "markdown",
   "metadata": {},
   "source": [
    "### Testes de aplicação"
   ]
  },
  {
   "cell_type": "markdown",
   "metadata": {},
   "source": [
    "Para efeitos de teste, desenvolveu-se a função **solve_HNP** que, agregando todas as funções anteriormente descritas, resolve o problema **HNP**. Acrescentam-se, também, as regras às quais a função obedece de forma a que a resolução aconteça da forma esperada:\n",
    "* **p** é um valor primo\n",
    "* **k** é menor que log<sub>2</sub>p\n",
    "* **s** obedece à regra s ≠ 0 ∈ Z<sub>p</sub>\n",
    "* **lmbda** obedece a λ ≡ 2<sup>k</sup>\n",
    "* **A** é da forma A ≡ 1 / λ\n",
    "* **B** obedece a B ≡ p / λ"
   ]
  },
  {
   "cell_type": "code",
   "execution_count": 25,
   "metadata": {},
   "outputs": [],
   "source": [
    "import math\n",
    "\n",
    "def solve_HNP(d):\n",
    "    p = next_prime(2 ** d)\n",
    "    k = floor(sqrt(d) + log(d, 2))\n",
    "    lmbda = 2 ** k\n",
    "    A = 1 / lmbda\n",
    "    B = p / lmbda\n",
    "    n = floor(2 * sqrt(d))\n",
    "    s = randint(1, p - 1)\n",
    "    print('s:', s)\n",
    "\n",
    "    pairs = generate_pairs(n, p, s, B)\n",
    "    lattice = build_lattice([x for x, _ in pairs], [u for _, u in pairs], A, n, p, lmbda, B)\n",
    "    reduced_lattice = reduce_lattice(lattice)\n",
    "    recovered_s = find_secret(reduced_lattice, lmbda, p)\n",
    "    print('recovered s:', recovered_s)\n",
    "\n",
    "    if (s == recovered_s):\n",
    "        print('HNP solved!')\n",
    "\n",
    "    else:\n",
    "        print(\"Couldn't solve HNP!\")"
   ]
  },
  {
   "cell_type": "markdown",
   "metadata": {},
   "source": [
    "Apresentam-se, assim, três diferentes testes efetuados com diferentes valores de **d**."
   ]
  },
  {
   "cell_type": "code",
   "execution_count": 26,
   "metadata": {},
   "outputs": [
    {
     "name": "stdout",
     "output_type": "stream",
     "text": [
      "s: 107747632515893736307003412558112463839274318006488029091570415930549959225371\n",
      "recovered s: 107747632515893736307003412558112463839274318006488029091570415930549959225371\n",
      "HNP solved!\n"
     ]
    }
   ],
   "source": [
    "solve_HNP(256)"
   ]
  },
  {
   "cell_type": "code",
   "execution_count": 27,
   "metadata": {},
   "outputs": [
    {
     "name": "stdout",
     "output_type": "stream",
     "text": [
      "s: 2765633407280853479224076066139432473693032170019158495608191794384287061390369680914963773797926048901299836669700227967644999017162220372923763585975361\n",
      "recovered s: 2765633407280853479224076066139432473693032170019158495608191794384287061390369680914963773797926048901299836669700227967644999017162220372923763585975361\n",
      "HNP solved!\n"
     ]
    }
   ],
   "source": [
    "solve_HNP(512)"
   ]
  },
  {
   "cell_type": "code",
   "execution_count": 28,
   "metadata": {},
   "outputs": [
    {
     "name": "stdout",
     "output_type": "stream",
     "text": [
      "s: 124091559600847266358506865858783322335608668942855151191339580228966464671480829252682736400346337696169035430626006030595659866613628472370523683619475634117534013100252031467071078881632173197034369084954575867639205396038422790197189835661794530430900377556597012144051669581481862433600582659506243558219\n",
      "recovered s: 124091559600847266358506865858783322335608668942855151191339580228966464671480829252682736400346337696169035430626006030595659866613628472370523683619475634117534013100252031467071078881632173197034369084954575867639205396038422790197189835661794530430900377556597012144051669581481862433600582659506243558219\n",
      "HNP solved!\n"
     ]
    }
   ],
   "source": [
    "solve_HNP(1024)"
   ]
  }
 ],
 "metadata": {
  "kernelspec": {
   "display_name": "SageMath 10.1",
   "language": "sage",
   "name": "sagemath"
  },
  "language_info": {
   "codemirror_mode": {
    "name": "ipython",
    "version": 3
   },
   "file_extension": ".py",
   "mimetype": "text/x-python",
   "name": "python",
   "nbconvert_exporter": "python",
   "pygments_lexer": "ipython3",
   "version": "3.11.6"
  }
 },
 "nbformat": 4,
 "nbformat_minor": 2
}
