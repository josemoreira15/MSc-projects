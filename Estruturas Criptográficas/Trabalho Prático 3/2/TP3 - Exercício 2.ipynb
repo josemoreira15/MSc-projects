{
 "cells": [
  {
   "cell_type": "markdown",
   "metadata": {},
   "source": [
    "# Estruturas Criptográficas\n",
    "## Trabalho Prático 3 - Exercício 2\n",
    "### José de Matos Moreira - PG53963\n",
    "### Pedro Freitas - PG52700"
   ]
  },
  {
   "cell_type": "markdown",
   "metadata": {},
   "source": [
    "## Enunciado do problema\n",
    "Em agosto de 2023, a **NIST** publicou um *draft* da norma **FIPS203** para um **Key Encapsulation Mechanism** (KEM) derivado dos algoritmos **KYBER**.\n",
    "\n",
    "Neste trabalho pretende-se implementar, em **Sagemath**, um protótipo deste *standard* parametrizado de acordo com as variantes sugeridas na norma (512, 768 e 1024 *bits* de segurança)."
   ]
  },
  {
   "cell_type": "markdown",
   "metadata": {},
   "source": [
    "## Resolução"
   ]
  },
  {
   "cell_type": "markdown",
   "metadata": {},
   "source": [
    "Em primeiro lugar, mostram-se os *imports* necessários."
   ]
  },
  {
   "cell_type": "code",
   "execution_count": 1,
   "metadata": {
    "vscode": {
     "languageId": "python"
    }
   },
   "outputs": [],
   "source": [
    "import hashlib, os\n",
    "from functools import reduce"
   ]
  },
  {
   "cell_type": "markdown",
   "metadata": {},
   "source": [
    "### Funções auxiliares e variáveis globais"
   ]
  },
  {
   "cell_type": "markdown",
   "metadata": {},
   "source": [
    "Em primeiro lugar, apresentam-se as funções auxiliares e as variáveis globais utilizadas na realização do projeto proposto. Em primeiro lugar, as funções auxiliares apresentam-se como porções de código que, ao longo do projeto, se mostraram úteis quando aplicadas com as funções principais do protótipo. São as seguintes:\n",
    "* **bit_rev_7**: função responsável por transformar um valor inteiro, de sete *bits*, trocando a ordem dos seus *bits*\n",
    "* **G**: função que, recorrendo ao **SHA3-512**, produz dois *outputs*, de trinta e dois *bytes* cada, através de um *input*, em *bytes*, de tamanho variável\n",
    "* **H**: função que, recorrendo ao **SHA3-256**, produz um *output*, de trinta e dois *bytes*, a partir de um *input* de *bytes*, de tamanho variável\n",
    "* **J**: função que, recorrendo ao **SHAKE256**, produz um *output*, de trinta e dois *bytes*, a partir de um *input* de *bytes*, de tamanho variável\n",
    "* **XOF**: **eXtendable-output function** que, recorrendo ao **SHAKE128** e, tendo como *inputs* uma variável de trinta e dois *bytes* e duas variáveis de um *byte* cada, produz um *output*, em *bytes*, de tamanho variável\n",
    "* **PRF**: função pseudoaleatória que, através do **SHAKE256**, produz um *output* em *bytes*\n",
    "* **vector_add**: algoritmo responsável por fazer a soma de dois vetores (módulo q)\n",
    "* **vector_sub**: algoritmo responsável por executar a subtração de dois vetores (módulo q)\n",
    "* **compress**: função com a capacidade de comprimir os valores inteiros de um vetor\n",
    "* **decompress**: função responsável por descomprimir os valores inteiros de um vetor\n",
    "\n",
    "Em segundo lugar, apresentam-se as variáveis globais utilizadas no protótipo:\n",
    "* **Q**: inteiro primo, obtido através de **2⁸ * 13 + 1**\n",
    "* **ZETA**: variável utilizada nas funções **ntt** e **ntt_inv**, obtida através da exponenciação da raiz primitiva ζ = 17\n",
    "* **GAMMA**: variável utilizada na função **multiply_ntt_s**, obtida através da exponenciação da raiz primitiva ζ = 17"
   ]
  },
  {
   "cell_type": "code",
   "execution_count": 2,
   "metadata": {
    "vscode": {
     "languageId": "python"
    }
   },
   "outputs": [],
   "source": [
    "Q = 3329\n",
    "\n",
    "\n",
    "def bit_rev_7(r):\n",
    "    return int('{:07b}'.format(r)[::-1], 2)\n",
    "\n",
    "\n",
    "def G(c):\n",
    "    G_result = hashlib.sha3_512(c).digest()\n",
    "    return G_result[:32], G_result[32:]\n",
    "\n",
    "\n",
    "def H(c):\n",
    "    return hashlib.sha3_256(c).digest()\n",
    "\n",
    "\n",
    "def J(s, l):\n",
    "    return hashlib.shake_256(s).digest(l)\n",
    "\n",
    "\n",
    "def XOF(rho, i, j):\n",
    "    return hashlib.shake_128(rho + bytes([i]) + bytes([j])).digest(1536)\n",
    "\n",
    "\n",
    "def PRF(eta, s, b):\n",
    "    return hashlib.shake_256(s + b).digest(64 * eta)\n",
    "\n",
    "\n",
    "def vector_add(ac, bc):\n",
    "\treturn [(x + y) % Q for x, y in zip(ac, bc)]\n",
    "\n",
    "\n",
    "def vector_sub(ac, bc):\n",
    "\treturn [(x - y) % Q for x, y in zip(ac, bc)]\n",
    "\n",
    "\n",
    "def compress(d, x):\n",
    "\treturn [(((n * 2 ** d) + Q // 2 ) // Q) % (2 ** d) for n in x]\n",
    "\n",
    "def decompress(d, x):\n",
    "\treturn [(((n * Q) + 2 ** (d - 1) ) // 2 ** d) % Q for n in x]\n",
    "\n",
    "\n",
    "ZETA = [pow(17, bit_rev_7(k), Q) for k in range(128)]\n",
    "GAMMA = [pow(17, 2 * bit_rev_7(k) + 1, Q) for k in range(128)]"
   ]
  },
  {
   "cell_type": "markdown",
   "metadata": {},
   "source": [
    "### Algoritmos"
   ]
  },
  {
   "cell_type": "markdown",
   "metadata": {},
   "source": [
    "Aqui, apresentam-se os dezasseis algoritmos que formam o corpo principal do protótipo estudado e desenvolvido. Segue-se uma explicação breve de cada um dos mesmos:\n",
    "* **bits_to_bytes**: função responsável por converter um *array* de *bits* numa representação em *bytes*\n",
    "* **bytes_to_bits**: função com a capacidade de converter um *array* de *bytes* num *array* de *bits*\n",
    "* **byte_encode**: algoritmo capaz de converter um *array* de *bits* (representados por inteiros) num *array* de *bytes*\n",
    "* **byte_decode**: função que decodifica um *array* de *bytes*, transformando-o numa representação em *bits* (inteiros)\n",
    "* **sample_ntt**: algoritmo que converte uma *stream* de *bytes* num polinómio no domínio *NTT*\n",
    "* **sample_poly_cbd**: algoritmo que produz uma amostra aleatória da distribuição Dη(Rq)\n",
    "* **ntt**: algoritmo que calcula a representação **NTT** de um dado polinómio\n",
    "* **ntt_inv**: função que calcula um polinómio, através da sua representação **NTT**\n",
    "* **base_case_multiply**: algoritmo que computa o produto de dois polinómios, de grau um, em relação a um módulo quadrático\n",
    "* **multiply_ntt_s**: função responsável por calcular o produto, no anel $\\mathbb{T}_{q}$, de duas representações **NTT**\n",
    "* **k_pke_keygen**: algoritmo que gera uma chave de cifragem e a respetiva chave de decifragem\n",
    "* **k_pke_encrypt**: algoritmo que, através de uma chave de cifragem gerada e de um valor aleatório, cifra uma mensagem de texto\n",
    "* **k_pke_decrypt**: algoritmo que, recorrendo a uma chave de decifragem gerada, decifra um texto cifrado\n",
    "* **ml_kem_keygen**: função que gera chaves de encapsulamento e desencapsulamento\n",
    "* **ml_kem_encaps**: função que, através de uma chave de encapsulamento, gera uma chave partilhada e um texto cifrado associado\n",
    "* **ml_kem_decaps**: função que, a partir de uma chave de desencapsulamento e de um texto cifrado, gera uma chave partilhada"
   ]
  },
  {
   "cell_type": "code",
   "execution_count": 3,
   "metadata": {
    "vscode": {
     "languageId": "python"
    }
   },
   "outputs": [],
   "source": [
    "def bits_to_bytes(b):\n",
    "    B = bytearray([0] * (len(b) // 8))\n",
    "    \n",
    "    for i in range(len(b)):\n",
    "        B[i // 8] += b[i] * 2 ** (i % 8)\n",
    "    \n",
    "    return bytes(B)\n",
    "\n",
    "\n",
    "def bytes_to_bits(B):\n",
    "    B_list = list(B)\n",
    "    b = [0] * (len(B_list) * 8)\n",
    "    \n",
    "    for i in range(len(B_list)):\n",
    "        for j in range(8):\n",
    "            b[8 * i + j] = B_list[i] % 2\n",
    "            B_list[i] //= 2\n",
    "\n",
    "    return b\n",
    "\n",
    "\n",
    "def byte_encode(d, F):\n",
    "    b = [0] * (256 * d)\n",
    "    for i in range(256):\n",
    "        a = F[i]\n",
    "        for j in range(d):\n",
    "            b[i * d + j] = a % 2\n",
    "            a = (a - b[i * d + j]) // 2\n",
    "    \n",
    "    return bits_to_bytes(b)\n",
    "\n",
    "\n",
    "def byte_decode(d, B):\n",
    "    m = 2 ** d if d < 12 else Q\n",
    "    b = bytes_to_bits(B)\n",
    "    F = [0] * 256\n",
    "\n",
    "    for i in range(256):\n",
    "        F[i] = sum(b[i * d + j] * (2 ** j) % m for j in range(d))\n",
    "    \n",
    "    return F\n",
    "\n",
    "\n",
    "def sample_ntt(B):\n",
    "    i, j = 0, 0\n",
    "    ac = [0] * 256\n",
    "\n",
    "    while j < 256:\n",
    "        d1 = B[i] + 256 * (B[i + 1] % 16)\n",
    "        d2 = (B[i + 1] // 16) + 16 * B[i + 2]\n",
    "\n",
    "        if d1 < Q:\n",
    "            ac[j] = d1\n",
    "            j += 1\n",
    "\n",
    "        if d2 < Q and j < 256:\n",
    "            ac[j] = d2\n",
    "            j += 1\n",
    "            \n",
    "        i += 3\n",
    "\n",
    "    return ac\n",
    "\n",
    "\n",
    "def sample_poly_cbd(B, eta):\n",
    "    b = bytes_to_bits(B)\n",
    "    f = [0] * 256\n",
    "    \n",
    "    for i in range(256):\n",
    "        x = sum(b[2 * i * eta + j] for j in range(eta))\n",
    "        y = sum(b[2 * i * eta + eta + j] for j in range(eta))\n",
    "        f[i] = (x - y) % Q\n",
    "\n",
    "    return f\n",
    "\n",
    "\n",
    "def ntt(f):\n",
    "    fc = f\n",
    "    k = 1\n",
    "    len = 128\n",
    "\n",
    "    while len >= 2:\n",
    "        start = 0\n",
    "        while start < 256:\n",
    "            zeta = ZETA[k]\n",
    "            k += 1\n",
    "            for j in range(start, start + len):\n",
    "                t = (zeta * fc[j + len]) % Q\n",
    "                fc[j + len] = (fc[j] - t) % Q\n",
    "                fc[j] = (fc[j] + t) % Q\n",
    "\n",
    "            start += 2 * len\n",
    "            \n",
    "        len //= 2\n",
    "\n",
    "    return fc\n",
    "\n",
    "\n",
    "def ntt_inv(fc):\n",
    "    f = fc\n",
    "    k = 127\n",
    "    len = 2\n",
    "    while len <= 128:\n",
    "        start = 0\n",
    "        while start < 256:\n",
    "            zeta = ZETA[k]\n",
    "            k -= 1\n",
    "            for j in range(start, start + len):\n",
    "                t = f[j]\n",
    "                f[j] = (t + f[j + len]) % Q\n",
    "                f[j + len] = (zeta * (f[j + len] - t)) % Q\n",
    "\n",
    "            start += 2 * len\n",
    "\n",
    "        len *= 2\n",
    "\n",
    "    return [(felem * 3303) % Q for felem in f]\n",
    "\n",
    "\n",
    "def base_case_multiply(a0, a1, b0, b1, gamma):\n",
    "    c0 = a0 * b0 + a1 * b1 * gamma\n",
    "    c1 = a0 * b1 + a1 * b0\n",
    "\n",
    "    return c0, c1\n",
    "\n",
    "\n",
    "def multiply_ntt_s(fc, gc):\n",
    "    hc = [0] * 256\n",
    "    for i in range(128):\n",
    "        hc[2 * i], hc[2 * i + 1] = base_case_multiply(fc[2 * i], fc[2 * i + 1], gc[2 * i], gc[2 * i + 1], GAMMA[i])\n",
    "    \n",
    "    return hc\n",
    "\n",
    "\n",
    "def k_pke_keygen(k, eta1):\n",
    "    d = os.urandom(32)\n",
    "    rho, sigma = G(d)\n",
    "    N = 0\n",
    "    Ac = [[None for _ in range(k)] for _ in range(k)]\n",
    "    s = [None for _ in range(k)]\n",
    "    e = [None for _ in range(k)]\n",
    "\n",
    "    for i in range(k):\n",
    "        for j in range(k):\n",
    "            Ac[i][j] = sample_ntt(XOF(rho, i, j))\n",
    "\n",
    "    for i in range(k):\n",
    "        s[i] = sample_poly_cbd(PRF(eta1, sigma, bytes([N])), eta1)\n",
    "        N += 1\n",
    "\n",
    "    for i in range(k):\n",
    "        e[i] = sample_poly_cbd(PRF(eta1, sigma, bytes([N])), eta1)\n",
    "        N += 1\n",
    "\n",
    "    sc = [ntt(s[i]) for i in range(k)]\n",
    "    ec = [ntt(e[i]) for i in range(k)]\n",
    "    tc = [reduce(vector_add, [multiply_ntt_s(Ac[i][j], sc[j]) for j in range(k)] + [ec[i]]) for i in range(k)]\n",
    "\n",
    "    ek_PKE = b\"\".join(byte_encode(12, tc_elem) for tc_elem in tc) + rho\n",
    "    dk_PKE = b\"\".join(byte_encode(12, sc_elem) for sc_elem in sc)\n",
    "\n",
    "    return ek_PKE, dk_PKE\n",
    "\n",
    "\n",
    "def k_pke_encrypt(ek_PKE, m, rand, k, eta1, eta2, du, dv):\n",
    "    N = 0\n",
    "    tc = [byte_decode(12, ek_PKE[i * 384 : (i + 1) * 384]) for i in range(k)]\n",
    "    rho = ek_PKE[384 * k : 384 * k + 32]\n",
    "    Ac = [[None for _ in range(k)] for _ in range(k)]\n",
    "    r = [None for _ in range(k)]\n",
    "    e1 = [None for _ in range(k)]\n",
    "\n",
    "    for i in range(k):\n",
    "        for j in range(k):\n",
    "            Ac[i][j] = sample_ntt(XOF(rho, i, j))\n",
    "\n",
    "    for i in range(k):\n",
    "        r[i] = sample_poly_cbd(PRF(eta1, rand, bytes([N])), eta1)\n",
    "        N += 1\n",
    "\n",
    "    for i in range(k):\n",
    "        e1[i] = sample_poly_cbd(PRF(eta2, rand, bytes([N])), eta2)\n",
    "        N += 1\n",
    "\n",
    "    e2 = sample_poly_cbd(PRF(eta2, rand, bytes([N])), eta2)\n",
    "    rc = [ntt(r[i]) for i in range(k)]\n",
    "    u = [vector_add(ntt_inv(reduce(vector_add, [multiply_ntt_s(Ac[j][i], rc[j]) for j in range(k)])), e1[i]) for i in range(k)]\n",
    "    mu = decompress(1, byte_decode(1, m))\n",
    "    v = vector_add(ntt_inv(reduce(vector_add, [multiply_ntt_s(tc[i], rc[i]) for i in range(k)])), vector_add(e2, mu))\n",
    "\n",
    "    c1 = b\"\".join(byte_encode(du, compress(du, u[i])) for i in range(k))\n",
    "    c2 = byte_encode(dv, compress(dv, v))\n",
    "\n",
    "    return c1 + c2\n",
    "\n",
    "\n",
    "def k_pke_decrypt(dk_PKE, c, k, du, dv):\n",
    "    c1 = c[:32 * du * k]\n",
    "    c2 = c[32 * du * k : 32 * (du * k + dv)]\n",
    "    u = [decompress(du, byte_decode(du, c1[i * 32 * du : (i + 1) * 32 * du])) for i in range(k)]\n",
    "    v = decompress(dv, byte_decode(dv, c2))\n",
    "    sc = [byte_decode(12, dk_PKE[i * 384 : (i + 1) * 384]) for i in range(k)]\n",
    "    w = vector_sub(v, ntt_inv(reduce(vector_add, [multiply_ntt_s(sc[i], ntt(u[i])) for i in range(k)])))\n",
    "\n",
    "    return byte_encode(1, compress(1, w))\n",
    "\n",
    "\n",
    "def ml_kem_keygen(k, eta1):\n",
    "    z = os.urandom(32)\n",
    "    ek_PKE, dk_PKE = k_pke_keygen(k, eta1)\n",
    "    ek = ek_PKE\n",
    "    dk = dk_PKE + ek + H(ek) + z\n",
    "\n",
    "    return ek, dk\n",
    "\n",
    "\n",
    "def ml_kem_encaps(ek, k, eta1, eta2, du, dv):\n",
    "    m = os.urandom(32)\n",
    "    K, r = G(m + H(ek))\n",
    "    c = k_pke_encrypt(ek, m, r, k, eta1, eta2, du, dv)\n",
    "\n",
    "    return K, c\n",
    "\n",
    "\n",
    "def ml_kem_decaps(c, dk, k, eta1, eta2, du, dv):    \n",
    "    dk_PKE = dk[0: 384 * k]\n",
    "    ek_PKE = dk[384 * k : 768 * k + 32]\n",
    "    h = dk[768 * k + 32 : 768 * k + 64]\n",
    "    z = dk[768 * k + 64 : 768 * k + 96]\n",
    "    ml = k_pke_decrypt(dk_PKE, c, k, du, dv)\n",
    "    Kl, rl = G(ml + h)\n",
    "    Kb = J((z + c), 32)\n",
    "    cl = k_pke_encrypt(ek_PKE, ml, rl, k, eta1, eta2, du, dv)\n",
    "    if c != cl:\n",
    "        Kl = Kb\n",
    "\n",
    "    return Kl"
   ]
  },
  {
   "cell_type": "markdown",
   "metadata": {},
   "source": [
    "### Testes de aplicação"
   ]
  },
  {
   "cell_type": "markdown",
   "metadata": {},
   "source": [
    "Para efeitos de teste, desenvolveu-se a função **ml_kem_test**, responsável por receber os diversos parâmetros do mecanismo **ML-KEM**, de acordo com o nível de segurança e a performance pretendidos."
   ]
  },
  {
   "cell_type": "code",
   "execution_count": 4,
   "metadata": {
    "vscode": {
     "languageId": "python"
    }
   },
   "outputs": [],
   "source": [
    "def ml_kem_test(k, eta1, eta2, du, dv):\n",
    "    ek, dk = ml_kem_keygen(k, eta1)\n",
    "\n",
    "    if type(ek) != bytes or len(ek) != 384 * k + 32:\n",
    "        raise ValueError('invalid ek (type check)')\n",
    "    \n",
    "    if b''.join([byte_encode(12, decoded_ek_elem) for decoded_ek_elem in [byte_decode(12, ek[i * 384 : (i + 1) * 384]) for i in range(k)]]) != ek[:-32]:\n",
    "        raise ValueError('invalid dk (type check)')\n",
    "\n",
    "    K, c = ml_kem_encaps(ek, k, eta1, eta2, du, dv)\n",
    "\n",
    "    if type(c) != bytes or len(c) != 32 * (du * k + dv):\n",
    "        raise ValueError('invalid c (type check)')\n",
    "    \n",
    "    Kl = ml_kem_decaps(c, dk, k, eta1, eta2, du, dv)\n",
    "\n",
    "    print('Equal shared keys?', K == Kl)"
   ]
  },
  {
   "cell_type": "markdown",
   "metadata": {},
   "source": [
    "#### ML-KEM-512"
   ]
  },
  {
   "cell_type": "code",
   "execution_count": 5,
   "metadata": {
    "vscode": {
     "languageId": "python"
    }
   },
   "outputs": [
    {
     "name": "stdout",
     "output_type": "stream",
     "text": [
      "Equal shared keys? True\n"
     ]
    }
   ],
   "source": [
    "ml_kem_test(2, 3, 2, 10, 4)"
   ]
  },
  {
   "cell_type": "markdown",
   "metadata": {},
   "source": [
    "#### ML-KEM-768"
   ]
  },
  {
   "cell_type": "code",
   "execution_count": 6,
   "metadata": {
    "vscode": {
     "languageId": "python"
    }
   },
   "outputs": [
    {
     "name": "stdout",
     "output_type": "stream",
     "text": [
      "Equal shared keys? True\n"
     ]
    }
   ],
   "source": [
    "ml_kem_test(3, 2, 2, 10, 4)"
   ]
  },
  {
   "cell_type": "markdown",
   "metadata": {},
   "source": [
    "#### ML-KEM-1024"
   ]
  },
  {
   "cell_type": "code",
   "execution_count": 7,
   "metadata": {
    "vscode": {
     "languageId": "python"
    }
   },
   "outputs": [
    {
     "name": "stdout",
     "output_type": "stream",
     "text": [
      "Equal shared keys? True\n"
     ]
    }
   ],
   "source": [
    "ml_kem_test(4, 2, 2, 11, 5)"
   ]
  }
 ],
 "metadata": {
  "kernelspec": {
   "display_name": "SageMath 10.1",
   "language": "sage",
   "name": "sagemath"
  },
  "language_info": {
   "codemirror_mode": {
    "name": "ipython",
    "version": 3
   },
   "file_extension": ".py",
   "mimetype": "text/x-python",
   "name": "sage",
   "nbconvert_exporter": "python",
   "pygments_lexer": "ipython3",
   "version": "3.11.6"
  }
 },
 "nbformat": 4,
 "nbformat_minor": 2
}
