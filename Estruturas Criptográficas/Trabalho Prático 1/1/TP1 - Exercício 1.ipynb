{
 "cells": [
  {
   "cell_type": "markdown",
   "metadata": {},
   "source": [
    "**Nota**: Devido ao módulo **asyncio**, o código disponibilizado deve ser executado através de ficheiros diferentes (para o *emitter* e para o *receiver*) e não no presente *notebook*."
   ]
  },
  {
   "cell_type": "markdown",
   "metadata": {},
   "source": [
    "# Estruturas Criptográficas\n",
    "## Trabalho Prático 1 - Exercício 1\n",
    "### José de Matos Moreira - PG53963\n",
    "### Pedro Freitas - PG52700"
   ]
  },
  {
   "cell_type": "markdown",
   "metadata": {},
   "source": [
    "## Enunciado do problema\n",
    "Use o _package_ **Cryptography** e o _package_ **ascon** para criar uma comunicação privada assíncrona em modo **“Lightweight Cryptography”** entre um agente _Emitter_ e um agente _Receiver_ que cubra os seguintes aspetos:\n",
    "* autenticação do criptograma e dos metadados (_associated data_) usando **ascon** em modo de cifra\n",
    "* as chaves de cifra, autenticação e os _“nounces”_ são gerados por um gerador pseudo aleatório (PRG) usando o **ascon** em modo **XOF**. As diferentes chaves para inicialização do PRG são _inputs_ do emissor e do receptor\n",
    "* para implementar a comunicação cliente-servidor use o _package_ python **asyncio**"
   ]
  },
  {
   "cell_type": "markdown",
   "metadata": {},
   "source": [
    "## Resolução"
   ]
  },
  {
   "cell_type": "markdown",
   "metadata": {},
   "source": [
    "Em primeiro lugar, procedeu-se ao *import* dos módulos necessários, em ambos os ficheiros *python* utilizados:"
   ]
  },
  {
   "cell_type": "code",
   "execution_count": null,
   "metadata": {},
   "outputs": [],
   "source": [
    "import asyncio\n",
    "import ascon"
   ]
  },
  {
   "cell_type": "markdown",
   "metadata": {},
   "source": [
    "### Receiver"
   ]
  },
  {
   "cell_type": "markdown",
   "metadata": {},
   "source": [
    "Inicialmente, começou-se pela escrita da função principal do *receiver*. A **receive_message** é responsável pelo corpo mais importante do programa. Deste modo, a mesma assegura o seguinte:\n",
    "* leitura dos dados recebidos\n",
    "* pedido de uma *seed* para geração da chave do **MAC**; usando o **ascon** em modo **XOF**, geração do mesmo e comparação com o **MAC** presente nos dados obtidos\n",
    "* em caso de sucesso no processo de autenticação, pedido das *seeds* para criação da chave de cifra e do *nounce*, caso contrário, impressão do erro obtido\n",
    "* geração dos parâmetros anteriormente referidos, através do **ascon**, em modo **XOF**\n",
    "* tentativa de decifragem dos dados recebidos, relativos ao *plaintext*\n",
    "* em caso de sucesso na decifragem, *print* do conteúdo obtido e, em caso de erro, apresentação do mesmo"
   ]
  },
  {
   "cell_type": "code",
   "execution_count": null,
   "metadata": {},
   "outputs": [],
   "source": [
    "async def receive_message(reader, _):\n",
    "    data = await reader.read()\n",
    "    \n",
    "    ciphertext = data[:-16]\n",
    "    mac = data[-16:]\n",
    "\n",
    "    mac_seed = input(\"[receiver] Type a seed to generate the mac: \")\n",
    "    mac_key = ascon.hash(mac_seed.encode(), variant='Ascon-Xof', hashlength=16)\n",
    "\n",
    "    r_mac = ascon.mac(mac_key, ciphertext, variant=\"Ascon-Mac\", taglength=16)\n",
    "    if mac != r_mac:\n",
    "        print('[receiver] Error in authentication!')\n",
    "\n",
    "    else:\n",
    "        try:\n",
    "            key_seed = input(\"[receiver] Type a seed to generate the key: \")\n",
    "            nounce_seed = input(\"[receiver] Type a seed to generate the nonce: \")\n",
    "\n",
    "            key = ascon.hash(key_seed.encode(), variant='Ascon-Xof', hashlength=16)\n",
    "            nounce = ascon.hash(nounce_seed.encode(), variant='Ascon-Xof', hashlength=16)\n",
    "\n",
    "            plaintext = ascon.decrypt(key, nounce, 'ec2324'.encode(), ciphertext, variant=\"Ascon-128\").decode()\n",
    "\n",
    "            print(\"[receiver] Message received: \" + plaintext)\n",
    "    \n",
    "        except Exception:\n",
    "            print(\"[receiver] Error in decryption!\")"
   ]
  },
  {
   "cell_type": "markdown",
   "metadata": {},
   "source": [
    "Deste modo, apresenta-se a primeira função a ser chamada, a **main**. Assim, a mesma procede à criação de um servidor assíncrono simples, que escuta no *localhost*, na porta 8888, chamando a função **receive_message** para lidar com as várias conexões recebidas. Reitera-se que a função **main** é executada continuamente durante o tempo de vida do processo."
   ]
  },
  {
   "cell_type": "code",
   "execution_count": null,
   "metadata": {},
   "outputs": [],
   "source": [
    "async def main():\n",
    "    server = await asyncio.start_server(receive_message, 'localhost', 8888)\n",
    "    \n",
    "    async with server:\n",
    "        await server.serve_forever()"
   ]
  },
  {
   "cell_type": "markdown",
   "metadata": {},
   "source": [
    "Esta mesma função apresentada é chamada pelo módulo **asyncio**, recorrendo ao **run**."
   ]
  },
  {
   "cell_type": "code",
   "execution_count": null,
   "metadata": {},
   "outputs": [],
   "source": [
    "asyncio.run(main())"
   ]
  },
  {
   "cell_type": "markdown",
   "metadata": {},
   "source": [
    "### Emitter"
   ]
  },
  {
   "cell_type": "markdown",
   "metadata": {},
   "source": [
    "O *emitter* possui uma função que produz a maior parte do seu trabalho, a **send_message**. Assim e, à semelhança do que foi feito anteriormente, apresenta-se as várias funcionalidades implementadas na mesma:\n",
    "* pedido de *input* da mensagem a ser cifrada e, posteriormente, enviada\n",
    "* pedido de *input* das *seeds* de geração da chave de cifra, do *nounce* e da chave do **MAC**\n",
    "* criação dos três parâmetros referidos, através das *seeds*, recorrendo ao módulo **ascon**, em modo **XOF**\n",
    "* cifragem da mensagem inserida\n",
    "* geração do **MAC**\n",
    "* retorno do resultado composto por *ciphertext* + **MAC**"
   ]
  },
  {
   "cell_type": "code",
   "execution_count": null,
   "metadata": {},
   "outputs": [],
   "source": [
    "async def send_message():\n",
    "    plaintext = input(\"[emitter] Type the message: \")\n",
    "\n",
    "    key_seed = input(\"[emitter] Type a seed to generate the key: \")\n",
    "    mac_seed = input(\"[emitter] Type a seed to generate the mac: \")\n",
    "    nounce_seed = input(\"[emitter] Type a seed to generate the nounce: \")\n",
    "\n",
    "    key = ascon.hash(key_seed.encode(), variant='Ascon-Xof', hashlength=16)\n",
    "    mac_key = ascon.hash(mac_seed.encode(), variant='Ascon-Xof', hashlength=16)\n",
    "    nounce = ascon.hash(nounce_seed.encode(), variant='Ascon-Xof', hashlength=16)\n",
    "\n",
    "    ciphertext = ascon.encrypt(key, nounce, 'ec2324'.encode(), plaintext.encode(), variant=\"Ascon-128\")\n",
    "    mac = ascon.mac(mac_key, ciphertext, variant=\"Ascon-Mac\", taglength=16)\n",
    "\n",
    "    return ciphertext + mac"
   ]
  },
  {
   "cell_type": "markdown",
   "metadata": {},
   "source": [
    "À semelhança do que acontece no *receiver*, existe uma função principal, a **main**, que é responsável por fazer a chamada à função anteriormente apresentada. Porém, a **main** possui outras funcionalidades, sendo as mesmas:\n",
    "* conexão assíncrona ao *localhost*, na porta 8888\n",
    "* chamada da função **send_message**, guardando o resultado da mesma numa variável\n",
    "* envio do conteúdo obtido, recorrendo ao **write** e ao **drain**"
   ]
  },
  {
   "cell_type": "code",
   "execution_count": null,
   "metadata": {},
   "outputs": [],
   "source": [
    "async def main():\n",
    "    _, writer = await asyncio.open_connection('localhost', 8888)\n",
    "\n",
    "    data = await send_message()\n",
    "\n",
    "    writer.write(data)\n",
    "    await writer.drain()\n",
    "\n",
    "    writer.close()\n",
    "    await writer.wait_closed()"
   ]
  },
  {
   "cell_type": "markdown",
   "metadata": {},
   "source": [
    "Analogamente, esta mesma função é chamada pelo **run**, do **asyncio**."
   ]
  },
  {
   "cell_type": "code",
   "execution_count": null,
   "metadata": {},
   "outputs": [],
   "source": [
    "asyncio.run(main())"
   ]
  },
  {
   "cell_type": "markdown",
   "metadata": {},
   "source": [
    "### Testes de aplicação"
   ]
  },
  {
   "cell_type": "markdown",
   "metadata": {},
   "source": [
    "#### Correta execução de ambos os agentes, ou seja, possuindo as mesmas *seeds* usadas na criação da chave de cifra, do *nounce* e do **MAC**\n",
    "![correct_test.png](tests/correct%20test.png)"
   ]
  },
  {
   "cell_type": "markdown",
   "metadata": {},
   "source": [
    "#### Introdução errada da *seed* usada para geração do **MAC** (pelo **receiver**)\n",
    "![error - mac.png](tests/error%20-%20mac.png)"
   ]
  },
  {
   "cell_type": "markdown",
   "metadata": {},
   "source": [
    "#### Introdução correta da *seed* usada para geração do MAC, mas introdução errada de pelo menos uma *seed* de geração dos parâmetros de decifragem (chave de cifra ou *nounce*, pelo **receiver**)\n",
    "![error - decryption.png](tests/error%20-%20decryption.png)"
   ]
  }
 ],
 "metadata": {
  "language_info": {
   "name": "python"
  }
 },
 "nbformat": 4,
 "nbformat_minor": 2
}
