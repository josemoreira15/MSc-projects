{
 "cells": [
  {
   "cell_type": "markdown",
   "metadata": {},
   "source": [
    "**Nota**: Devido ao módulo **asyncio**, o código disponibilizado deve ser executado através de ficheiros diferentes (para o *emitter* e para o *receiver*) e não no presente *notebook*."
   ]
  },
  {
   "cell_type": "markdown",
   "metadata": {},
   "source": [
    "# Estruturas Criptográficas\n",
    "## Trabalho Prático 1 - Exercício 2\n",
    "### José de Matos Moreira - PG53963\n",
    "### Pedro Freitas - PG52700"
   ]
  },
  {
   "cell_type": "markdown",
   "metadata": {},
   "source": [
    "## Enunciado do problema\n",
    "Use o _package_ **Cryptography** para:\n",
    "* implementar uma **AEAD** com **“Tweakable Block Ciphers”** conforme está descrito na última secção do texto \"Capítulo 1: Primitivas Criptográficas Básicas\". A cifra por blocos primitiva, usada para gerar a **“Tweakable Block Cipher”**, é o **AES-256** ou o **ChaCha20**\n",
    "* use esta cifra para construir um canal privado de informação assíncrona com acordo de chaves feito com **“X448 key exchange”** e **“Ed448 Signing&Verification”** para autenticação  dos agentes. Deve incluir uma fase de confirmação da chave acordada"
   ]
  },
  {
   "cell_type": "markdown",
   "metadata": {},
   "source": [
    "## Resolução"
   ]
  },
  {
   "cell_type": "markdown",
   "metadata": {},
   "source": [
    "Em primeiro lugar, procedeu-se ao *import* dos módulos necessários, em ambos os ficheiros *python* utilizados:"
   ]
  },
  {
   "cell_type": "code",
   "execution_count": null,
   "metadata": {},
   "outputs": [],
   "source": [
    "import asyncio\n",
    "import os\n",
    "import hmac\n",
    "from cryptography.hazmat.primitives import hashes\n",
    "from cryptography.hazmat.primitives.asymmetric import x448, ed448\n",
    "from cryptography.hazmat.primitives.kdf.hkdf import HKDF\n",
    "from cryptography.hazmat.primitives.ciphers import Cipher, algorithms, modes\n",
    "from cryptography.hazmat.primitives import serialization\n",
    "from cryptography.exceptions import InvalidSignature\n",
    "from pickle import dumps, loads"
   ]
  },
  {
   "cell_type": "markdown",
   "metadata": {},
   "source": [
    "### Emitter e Receiver"
   ]
  },
  {
   "cell_type": "markdown",
   "metadata": {},
   "source": [
    "Inicialmente, apresenta-se as funções usadas para geração das chaves de cifra: privada, pública e partilhada. Como pedido no enunciado, recorreu-se ao **X448 key exchange**. Deste modo e, recorrendo a ambas as funções, cada um dos agentes consegue:\n",
    "* criar as chaves privada e pública\n",
    "* criar uma chave partilhada, recorrendo à sua chave privada e à chave pública partilhada pelo outro agente\n",
    "\n",
    "Deste modo, consegue-se a geração de uma chave partilhada que pode ser usada por ambos os agentes para cifragem/decifragem de todas as mensagens transportadas entre os mesmos."
   ]
  },
  {
   "cell_type": "code",
   "execution_count": null,
   "metadata": {},
   "outputs": [],
   "source": [
    "def generate_keys():\n",
    "    private_key = x448.X448PrivateKey.generate()\n",
    "    public_key = private_key.public_key()\n",
    "\n",
    "    return private_key, public_key\n",
    "\n",
    "\n",
    "def generate_shared(private_key, peer_public_key):\n",
    "    shared_key = private_key.exchange(peer_public_key)\n",
    "    derived_key = HKDF(algorithm=hashes.SHA256(), length=32, salt=None, info=b'handshake data').derive(shared_key)\n",
    "    \n",
    "    return derived_key"
   ]
  },
  {
   "cell_type": "markdown",
   "metadata": {},
   "source": [
    "De seguida e, mais uma vez, como requerido pelo enunciado do problema, elaborou-se as funções com a capacidade de gerar as chaves privada e pública responsáveis pela assinatura de uma mensagem e, obviamente, a função responsável por aplicar essa mesma assinatura à respetiva mensagem passada como argumento. Tudo isto foi feito com base no **Ed448 signing**. Deste modo, cada um dos agentes consegue criar as suas chaves de assinatura, privada e pública e, através da sua chave privada gerada, assinar qualquer mensagem a ser enviada para que, através da chave pública, consiga ser verificada pelo agente com o qual está a estabelecer contacto."
   ]
  },
  {
   "cell_type": "code",
   "execution_count": null,
   "metadata": {},
   "outputs": [],
   "source": [
    "def generate_sign_keys():\n",
    "    private_key = ed448.Ed448PrivateKey.generate()\n",
    "    public_key = private_key.public_key()\n",
    "\n",
    "    return private_key, public_key\n",
    "\n",
    "\n",
    "def sign_this(private_key, message):\n",
    "    sign = private_key.sign(message)\n",
    "\n",
    "    return sign"
   ]
  },
  {
   "cell_type": "markdown",
   "metadata": {},
   "source": [
    "### Emitter"
   ]
  },
  {
   "cell_type": "markdown",
   "metadata": {},
   "source": [
    "Agora, passa-se a enumerar e explicar as diversas funções desenvolvidas a serem usadas (principalmente) pelo *emitter*. Em primeiro lugar, começou-se por escolher o algoritmo de criptografia a utilizar, o **AES-256**. O mesmo caracteriza-se por ser altamente seguro, uma vez que utiliza chaves de 256 bits de comprimento. Porém, este mesmo algoritmo atua em blocos de 16 bytes de comprimento cada, o que leva à implementação de funcionalidades que preencham um bloco (**padding**) de forma a que o mesmo passe a possuir 16 bytes de extensão, para que possa ser alvo do algoritmo referido."
   ]
  },
  {
   "cell_type": "code",
   "execution_count": null,
   "metadata": {},
   "outputs": [],
   "source": [
    "def padding(blocks):\n",
    "    last_len = len(blocks[-1])\n",
    "    blocks[-1] += b\"\\x00\" * (16 - last_len)\n",
    "\n",
    "    return blocks, last_len"
   ]
  },
  {
   "cell_type": "markdown",
   "metadata": {},
   "source": [
    "Por outro lado, surgiu também a necessidade de desenvolver código responsável por aplicar o algoritmo **AES-256** a cada um dos blocos alvo. Como estudado, o mecanismo geral de aplicação da cifra (**AEAD** com **“Tweakable Block Ciphers”**) funciona da seguinte forma:\n",
    "* os primeiros (m - 1) blocos Pᵢ são cifradas com a **TPBC**, controlada por uma só chave k mas com _“tweaks”_  wᵢ distintos\n",
    "* o último bloco Pₘ é cifrado de forma distinta: como um **XOR** de uma máscara gerada cifrando t (tamanho do último bloco antes do *padding*)\n",
    "* o último passo é a geração de um _“tag”_ de autenticação a partir da paridade do _“plaintext”_\n",
    "\n",
    "Os “tweaks” wᵢ (usados na cifragem dos blocos) e w* (usado na autenticação) são construídos como se ilustra em seguida:\n",
    "* existe um _“nounce”_ (“name only used once”) que ocupa os primeiros b/2 bits de cada _“tweak”_\n",
    "* os m _“tweaks”_ usados na cifra distinguem-se do restante por terminarem num bit 0. O _“tweak”_ da autenticação termina em 1\n",
    "* a componente intermédia é um contador, incrementado em uma unidade em cada bloco, quando usado na cifragem dos blocos, ou então é um parâmetro l, igual ao comprimento total do _“plaintext”_ (sem _“pad”_), quando usado na autenticação\n",
    "\n",
    "Assim, apresenta-se a função responsável por cifrar um bloco, recorrendo ao **AES-256**, em modo **CBC** (_Cipher Block Chaining_):"
   ]
  },
  {
   "cell_type": "code",
   "execution_count": null,
   "metadata": {},
   "outputs": [],
   "source": [
    "def tpbc (tweak, key, block, iv):\n",
    "    derived_tweak_key = hmac.digest(key, tweak, 'sha256')\n",
    "    cipher = Cipher(algorithms.AES(derived_tweak_key), modes.CBC(iv))\n",
    "    encryptor = cipher.encryptor()\n",
    "    cipher_block = encryptor.update(block) + encryptor.finalize()\n",
    "    \n",
    "    return cipher_block"
   ]
  },
  {
   "cell_type": "markdown",
   "metadata": {},
   "source": [
    "Tendo desenvolvido esta função, nasceu a necessidade de desenvolver uma outra com o poder de aplicar a cifra aos (m - 1) primeiros blocos, tal como manda o mecanismo. É importante reiterar que a mesma também calcula, simultaneamente, a autenticação:"
   ]
  },
  {
   "cell_type": "code",
   "execution_count": null,
   "metadata": {},
   "outputs": [],
   "source": [
    "def apply_tpbc(blocks, nounce, key, iv):\n",
    "    cipher_blocks = b\"\"\n",
    "    init_counter = os.urandom(7)\n",
    "    counter = init_counter\n",
    "    auth = 16 * b\"\\x00\"\n",
    "\n",
    "    for block in blocks:\n",
    "        tweak = nounce + counter + b\"\\x00\"\n",
    "        cipher_block = tpbc(tweak, key, block, iv)\n",
    "        cipher_blocks += cipher_block\n",
    "\n",
    "        counter_length = len(counter)\n",
    "        int_counter = int.from_bytes(counter, 'big') + 1\n",
    "        counter = int_counter.to_bytes(counter_length, 'big')\n",
    "                \n",
    "        auth = bytes(a ^ b for (a,b) in zip(auth, block))\n",
    "\n",
    "    return cipher_blocks, auth, counter, init_counter"
   ]
  },
  {
   "cell_type": "markdown",
   "metadata": {},
   "source": [
    "Por outro lado e, seguindo, mais uma vez, o mecanismo anteriormente explicado, escreveu-se a função responsável por executar o mesmo ao último bloco do nosso _plaintext_:"
   ]
  },
  {
   "cell_type": "code",
   "execution_count": null,
   "metadata": {},
   "outputs": [],
   "source": [
    "def solve_last(tweak, key, last_len, iv, last_block):\n",
    "    bytes_last_len = last_len.to_bytes(16, 'big')\n",
    "    mask = tpbc(tweak, key, bytes_last_len, iv)\n",
    "    last_cipher = bytes(a ^ b for (a,b) in zip(last_block, mask))\n",
    "    \n",
    "    return last_cipher"
   ]
  },
  {
   "cell_type": "markdown",
   "metadata": {},
   "source": [
    "Deste modo e, tendo as principais funções desenvolvidas, passou-se à codificação de uma função principal, **encrypt**, com a grande responsabilidade de fazer o trabalho todo de cifragem do conteúdo passado. Assim, a mesma possui a capacidade de fazer o seguinte:\n",
    "* produzir o *nounce*\n",
    "* produzir o iv\n",
    "* dividir a mensagem/*plaintext* em blocos\n",
    "* aplicar o *padding* ao último bloco (quando necessário)\n",
    "* aplicar o mecanismo de cifragem aos (m - 1) primeiros blocos\n",
    "* cifrar o último bloco, juntando-o aos blocos anteriormente trabalhados\n",
    "* continuar o processo de autenticação\n",
    "* gerar a _tag_"
   ]
  },
  {
   "cell_type": "code",
   "execution_count": null,
   "metadata": {},
   "outputs": [],
   "source": [
    "def encrypt(message, key):\n",
    "    nounce = os.urandom(8)\n",
    "    iv = os.urandom(16)\n",
    "\n",
    "    blocks = [bytes(message[counter : counter + 16], 'utf-8') for counter in range(0, len(message), 16)]\n",
    "    padded_blocks, last_len = padding(blocks)\n",
    "\n",
    "    cipher_blocks, auth, counter, init_counter = apply_tpbc(padded_blocks[:-1], nounce, key, iv)\n",
    "    last_cipher = solve_last(nounce + counter + b\"\\x00\", key, last_len, iv, padded_blocks[-1])\n",
    "    cipher_blocks += last_cipher\n",
    "\n",
    "    auth = bytes(a ^ b for (a,b) in zip(auth, padded_blocks[-1]))\n",
    "\n",
    "    m_length = len(message).to_bytes(16, 'big')\n",
    "    tweak = nounce + m_length + b\"\\x01\"\n",
    "    tag = tpbc(tweak, key, auth, iv)\n",
    "\n",
    "    return {'cipher_blocks': cipher_blocks, 'tag': tag, 'nounce': nounce, 'init_counter': init_counter, 'last_len': last_len, 'iv': iv}"
   ]
  },
  {
   "cell_type": "markdown",
   "metadata": {},
   "source": [
    "Por fim, concluiu-se o desenvolvimento do código principal relativo ao *emitter*, produzindo a sua função **main**. A mesma faz o seguinte:\n",
    "* conexão assíncrona ao *localhost*, na porta 8888\n",
    "* criação das chaves de cifra, privada e pública\n",
    "* assinatura de uma mensagem para confirmação da chave\n",
    "* comunicação, com o outro agente, informando-o das suas chaves públicas e da sua mensagem assinada\n",
    "* leitura das chaves públicas do outro agente e da sua mensagem assinada\n",
    "* verificação da assinatura do outro agente\n",
    "* criação da chave partilhada (para ser usada no processo de cifragem)\n",
    "* pedido de *input* da mensagem a ser cifrada e, posteriormente, enviada\n",
    "* cifragem da mensagem\n",
    "* assinatura do conteúdo\n",
    "* envio dos dados obtidos"
   ]
  },
  {
   "cell_type": "code",
   "execution_count": null,
   "metadata": {},
   "outputs": [],
   "source": [
    "async def main():\n",
    "    reader, writer = await asyncio.open_connection('localhost', 8888)\n",
    "    \n",
    "    private_cipher_key, public_cipher_key = generate_keys()\n",
    "    private_sign_key, public_sign_key = generate_sign_keys()\n",
    "\n",
    "    public_cipher_key_bytes = public_cipher_key.public_bytes(encoding=serialization.Encoding.Raw,format=serialization.PublicFormat.Raw)\n",
    "    sign_message = sign_this(private_sign_key, public_cipher_key_bytes)\n",
    "\n",
    "    writer.write(public_cipher_key_bytes)\n",
    "    writer.write(public_sign_key.public_bytes(encoding=serialization.Encoding.Raw,format=serialization.PublicFormat.Raw))\n",
    "    writer.write(sign_message)\n",
    "    await writer.drain()\n",
    "    print('[emitter] Public keys sent...')\n",
    "\n",
    "    peer_cipher_key  = await reader.read(56)\n",
    "    peer_sign_key = await reader.read(57)\n",
    "    peer_sign = await reader.read(114)\n",
    "    print('[emitter] Peer keys received...')\n",
    "\n",
    "    try:\n",
    "        peer_sign_new_key = ed448.Ed448PublicKey.from_public_bytes(peer_sign_key)\n",
    "        \n",
    "        peer_sign_new_key.verify(peer_sign, peer_cipher_key)\n",
    "        print(\"[emitter] Signature validated...\")\n",
    "        \n",
    "        shared_key = generate_shared(private_cipher_key, x448.X448PublicKey.from_public_bytes(peer_cipher_key))\n",
    "        print(\"[emitter] Shared key created...\")\n",
    "\n",
    "        plaintext = input(\"[emitter] Type the message: \")\n",
    "        \n",
    "        cipher_result = encrypt(plaintext, shared_key)\n",
    "        print(\"[emitter] Message encrypted...\")\n",
    "\n",
    "        cipher_result_tosend = dumps(cipher_result)\n",
    "        sig = sign_this(private_sign_key, cipher_result_tosend)\n",
    "        \n",
    "        final = {'sign': sig, 'content': cipher_result_tosend}\n",
    "        writer.write(dumps(final))\n",
    "        await writer.drain()\n",
    "        print(\"[emitter] Message sent...\")\n",
    "\n",
    "        \n",
    "    except InvalidSignature:\n",
    "        print(\"[emitter] Couldn't verify the signature!\")"
   ]
  },
  {
   "cell_type": "markdown",
   "metadata": {},
   "source": [
    "Por fim, a **main** do *emitter* é chamada pelo **run**, do **asyncio**."
   ]
  },
  {
   "cell_type": "code",
   "execution_count": null,
   "metadata": {},
   "outputs": [],
   "source": [
    "asyncio.run(main())"
   ]
  },
  {
   "cell_type": "markdown",
   "metadata": {},
   "source": [
    "### Receiver"
   ]
  },
  {
   "cell_type": "markdown",
   "metadata": {},
   "source": [
    "Ao contrário do que foi apresentado até ao momento, descreve-se, de seguida, as funções utilizadas pelo *receiver* em todo o processo de decifragem. Em primeiro lugar, surgiu a necessidade de escrever uma função capaz de decifrar, recorrendo ao **AES-256**, o conteúdo presente num bloco de cifra."
   ]
  },
  {
   "cell_type": "code",
   "execution_count": null,
   "metadata": {},
   "outputs": [],
   "source": [
    "def undo_tpbc (tweak, key, block, iv):\n",
    "    derived_tweak_key = hmac.digest(key, tweak, 'sha256')\n",
    "    cipher = Cipher(algorithms.AES(derived_tweak_key), modes.CBC(iv))\n",
    "    decryptor = cipher.decryptor()\n",
    "    plain_block = decryptor.update(block) + decryptor.finalize()\n",
    "    \n",
    "    return plain_block"
   ]
  },
  {
   "cell_type": "markdown",
   "metadata": {},
   "source": [
    "Tal como no *emitter*, seguindo o mecanismo geral de cifra, projetou-se a função responsável por decifrar os (m - 1) primeiros blocos, sendo a mesma apresentada da seguinte forma:"
   ]
  },
  {
   "cell_type": "code",
   "execution_count": null,
   "metadata": {},
   "outputs": [],
   "source": [
    "def apply_undo_tpbc(blocks, init_counter, nounce, key, iv):\n",
    "    plaintext = b\"\"\n",
    "    counter = init_counter\n",
    "    auth = 16 * b\"\\x00\"\n",
    "    \n",
    "    for block in blocks:\n",
    "        tweak = nounce + counter + b\"\\x00\"\n",
    "        plain_block = undo_tpbc(tweak, key, block, iv)\n",
    "        plaintext += plain_block\n",
    "\n",
    "        counter_length = len(counter)\n",
    "        int_counter = int.from_bytes(counter, 'big') + 1\n",
    "        counter = int_counter.to_bytes(counter_length, 'big')\n",
    "                \n",
    "        auth = bytes(a ^ b for (a,b) in zip(auth, plain_block))\n",
    "\n",
    "    return plaintext, auth, counter"
   ]
  },
  {
   "cell_type": "markdown",
   "metadata": {},
   "source": [
    "Do mesmo modo, nasceu, também, a função capaz de reverter o que foi aplicado ao último bloco."
   ]
  },
  {
   "cell_type": "code",
   "execution_count": null,
   "metadata": {},
   "outputs": [],
   "source": [
    "def unsolve_last(tweak, key, last_len, iv, last_block):\n",
    "    bytes_last_len = last_len.to_bytes(16, 'big')\n",
    "    mask = tpbc(tweak, key, bytes_last_len, iv)\n",
    "    last_cipher = bytes(a ^ b for (a,b) in zip(last_block, mask))\n",
    "    \n",
    "    return last_cipher"
   ]
  },
  {
   "cell_type": "markdown",
   "metadata": {},
   "source": [
    "Assim e, analogamente ao que foi feito anteriormente, codificou-se a **decrypt**, função principal capaz de juntar todo o trabalho útil daquelas que foram apresentadas até ao momento, relativamente, claro, ao corpo do *receiver*. Deste modo, elaborou-se a função capaz do seguinte:\n",
    "* dividir o conteúdo cifrado em blocos\n",
    "* decifrar os primeiros (m - 1) blocos\n",
    "* aplicar o processo de decifragem ao último bloco\n",
    "* dar *unpad* a esse mesmo bloco, juntando-o com os outros blocos de *plaintext*\n",
    "* continuar com o processo de cálculo da autenticação\n",
    "* calcular a *tag*\n",
    "* verificar se a *tag* é igual àquela enviada pelo outro agente"
   ]
  },
  {
   "cell_type": "code",
   "execution_count": null,
   "metadata": {},
   "outputs": [],
   "source": [
    "def decrypt(content, key):\n",
    "    cipher_blocks = [content['cipher_blocks'][counter : counter + 16] for counter in range(0, len(content['cipher_blocks']), 16)]\n",
    "    plaintext, auth, counter = apply_undo_tpbc(cipher_blocks[:-1], content['init_counter'], content['nounce'], key, content['iv'])\n",
    "    last_plain = unsolve_last(content['nounce'] + counter + b\"\\x00\", key, content['last_len'], content['iv'], cipher_blocks[-1])\n",
    "    \n",
    "    plaintext += last_plain[:content['last_len']]\n",
    "    \n",
    "    auth = bytes(a ^ b for (a,b) in zip(auth, last_plain))\n",
    "\n",
    "    m_length = len(plaintext).to_bytes(16, 'big')\n",
    "    tweak = content['nounce'] + m_length + b\"\\x01\"\n",
    "    tag = tpbc(tweak, key, auth, content['iv'])\n",
    "    \n",
    "    tag_status = True\n",
    "    if tag != content['tag']:\n",
    "        tag_status = False\n",
    "        \n",
    "    return plaintext, tag_status"
   ]
  },
  {
   "cell_type": "markdown",
   "metadata": {},
   "source": [
    "Assim, surgiu a *handle_connection*, com a capacidade de reunir todo este trabalho útil explicado nas funções anteriores. Caracteriza-se a mesma da seguinte forma:\n",
    "* leitura das chaves públicas do outro agente e da sua mensagem assinada\n",
    "* criação das chaves de cifra, privada e pública\n",
    "* assinatura de uma mensagem para confirmação da chave\n",
    "* comunicação, com o outro agente, informando-o das suas chaves públicas e da sua mensagem assinada\n",
    "* verificação da assinatura do outro agente\n",
    "* criação da chave partilhada (para ser usada no processo de decifragem)\n",
    "* leitura do conteúdo enviado pelo outro agente\n",
    "* verificação da assinatura presente nesse mesmo conteúdo\n",
    "* decifragem dos dados e obtenção do *plaintext*\n",
    "* *print* da mensagem, em caso de sucesso na verificação da *tag*"
   ]
  },
  {
   "cell_type": "code",
   "execution_count": null,
   "metadata": {},
   "outputs": [],
   "source": [
    "async def handle_connection(reader, writer):\n",
    "    peer_cipher_key  = await reader.read(56)\n",
    "    peer_sign_key = await reader.read(57)\n",
    "    peer_sign = await reader.read(114)\n",
    "    print('[receiver] Peer keys received...')\n",
    "\n",
    "    private_cipher_key, public_cipher_key = generate_keys()\n",
    "    private_sign_key, public_sign_key = generate_sign_keys()\n",
    "    \n",
    "    public_cipher_key_bytes = public_cipher_key.public_bytes(encoding=serialization.Encoding.Raw,format=serialization.PublicFormat.Raw)\n",
    "    sign_message = sign_this(private_sign_key, public_cipher_key_bytes)\n",
    "\n",
    "    writer.write(public_cipher_key_bytes)\n",
    "    writer.write(public_sign_key.public_bytes(encoding=serialization.Encoding.Raw,format=serialization.PublicFormat.Raw))\n",
    "    writer.write(sign_message)\n",
    "    await writer.drain()\n",
    "    print('[receiver] Public keys sent...')\n",
    "\n",
    "    try:\n",
    "        peer_sign_new_key = ed448.Ed448PublicKey.from_public_bytes(peer_sign_key)\n",
    "        \n",
    "        peer_sign_new_key.verify(peer_sign, peer_cipher_key)\n",
    "        print(\"[receiver] Signature validated...\")\n",
    "\n",
    "        shared_key = generate_shared(private_cipher_key, x448.X448PublicKey.from_public_bytes(peer_cipher_key))\n",
    "        print(\"[receiver] Shared key created...\")\n",
    "\n",
    "        read_content = await reader.read()\n",
    "        cipher = loads(read_content)\n",
    "        print(\"[receiver] Cipher received...\")\n",
    "\n",
    "        try:\n",
    "            peer_sign_new_key.verify(cipher['sign'], cipher['content'])\n",
    "            print(\"[receiver] Signature validated...\")\n",
    "\n",
    "            content = loads(cipher['content'])\n",
    "            plaintext, tag_status = decrypt(content, shared_key)\n",
    "\n",
    "            if tag_status == False:\n",
    "                print(\"[receiver] Invalid tag...\")\n",
    "\n",
    "            else:\n",
    "                print(\"[receiver] Message received: \" + plaintext.decode())\n",
    "\n",
    "        except InvalidSignature:\n",
    "            print(\"[receiver] Couldn't verify the signature!\")\n",
    "\n",
    "    except InvalidSignature:\n",
    "        print(\"[receiver] Couldn't verify the signature!\")"
   ]
  },
  {
   "cell_type": "markdown",
   "metadata": {},
   "source": [
    "Não podendo faltar, apresenta-se a função **main**, que cria um servidor assíncrono, no *localhost*, na porta 8888, colocando-se à escuta no mesmo, fazendo o devido tratamento das conexões, recorrendo à função anterior."
   ]
  },
  {
   "cell_type": "code",
   "execution_count": null,
   "metadata": {},
   "outputs": [],
   "source": [
    "async def main():\n",
    "    server = await asyncio.start_server(handle_connection, 'localhost', 8888)\n",
    "    \n",
    "    async with server:\n",
    "        await server.serve_forever()"
   ]
  },
  {
   "cell_type": "markdown",
   "metadata": {},
   "source": [
    "Tal como acontece com o código desenvolvido para o outro agente, esta mesma função principal é chamada pelo **run**, do **asyncio**."
   ]
  },
  {
   "cell_type": "code",
   "execution_count": null,
   "metadata": {},
   "outputs": [],
   "source": [
    "asyncio.run(main())"
   ]
  },
  {
   "cell_type": "markdown",
   "metadata": {},
   "source": [
    "### Testes de aplicação"
   ]
  },
  {
   "cell_type": "markdown",
   "metadata": {},
   "source": [
    "#### Execução correta de ambos os agentes\n",
    "![correct_test.png](tests/correct%20test.png)"
   ]
  }
 ],
 "metadata": {
  "language_info": {
   "name": "python"
  }
 },
 "nbformat": 4,
 "nbformat_minor": 2
}
