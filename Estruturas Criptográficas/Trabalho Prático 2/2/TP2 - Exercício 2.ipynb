{
 "cells": [
  {
   "cell_type": "markdown",
   "metadata": {},
   "source": [
    "# Estruturas Criptográficas\n",
    "## Trabalho Prático 2 - Exercício 2\n",
    "### José de Matos Moreira - PG53963\n",
    "### Pedro Freitas - PG52700"
   ]
  },
  {
   "cell_type": "markdown",
   "metadata": {},
   "source": [
    "## Enunciado do problema\n",
    "Uma das aplicações mais importantes do teorema chinês dos restos (CRT), em criptografia, é a transformada **NTT “Number Theoretic Transform”**. Esta transformada é uma componente importante de *“standards”* **PQC**, como o **Kyber** e o **Dilithium**, mas também de outros algoritmos submetidos ao concurso **NIST PQC**. A transformação **NTT** tem várias opções e aquela que está apresentada no **Capítulo 4: Problemas Difíceis** usa o **CRT**. \n",
    "\n",
    "Neste problema pretende-se uma implementação **Sagemath** do **NTT-CRT** tal como é descrito nesse documento."
   ]
  },
  {
   "cell_type": "markdown",
   "metadata": {},
   "source": [
    "## Resolução"
   ]
  },
  {
   "cell_type": "markdown",
   "metadata": {},
   "source": [
    "Em primeiro lugar, surge a fase de *import*."
   ]
  },
  {
   "cell_type": "code",
   "execution_count": 1,
   "metadata": {},
   "outputs": [],
   "source": [
    "from sage.all import *"
   ]
  },
  {
   "cell_type": "markdown",
   "metadata": {},
   "source": [
    "### NTT_CRT"
   ]
  },
  {
   "cell_type": "markdown",
   "metadata": {},
   "source": [
    "Todo o código desenvolvido encontra-se inserido nesta classe. A mesma implementa a transformada **NTT**, num corpo finito, **GF(q)**, recorrendo ao **CRT**, exatamente da mesma forma que o mesmo é descrito no **Capítulo 4**. Deste modo, explica-se cada uma das funções presentes:\n",
    "* **\\_\\_init\\_\\_**: métdo de inicialização. Responsável por inicializar as variáveis **n** e **q**, verificando se o valor de **n** é da forma **$2^d$** e se o valor do parâmetro **q**, se passado na inicialização (atribuindo um quando isso não acontece), verifica a condição **q ≡ 1 mod 2n**. Também inicializa os valores **F** e **R**, sendo, respetivamente, um campo finito e um anel polinomial, e a base, através das raízes\n",
    "* **\\_expand\\_**: função que expande um polinómio até que o mesmo atinja o tamanho **n**\n",
    "* **\\_ntt\\_**: função responsável por aplicar a transformada **NTT**, recursivamente, tal como especificado no **Capítulo 4**\n",
    "* **ntt**: método que calcula a **NTT** de um polinómio\n",
    "* **ntt_inv**: função que calcula a inversa da **NTT**\n",
    "* **random_pol**: função capaz de gerar um polinómio aleatório, pertencente ao anel polinomial já criado"
   ]
  },
  {
   "cell_type": "code",
   "execution_count": 2,
   "metadata": {},
   "outputs": [],
   "source": [
    "class NTT_CRT():\n",
    "\n",
    "    def __init__(self, n, q):\n",
    "        if not (n > 0 and (n & (n - 1)) == 0):\n",
    "            raise ValueError(\"[ERROR] n value\")\n",
    "        self.n = n\n",
    "\n",
    "        if q == None:\n",
    "            self.q = 1 + 2 * self.n\n",
    "            while True:\n",
    "                if self.q.is_prime():\n",
    "                    break\n",
    "                self.q += 2 * n\n",
    "        \n",
    "        else:\n",
    "            if q % (2 * n) != 1:\n",
    "                raise ValueError(\"[ERROR] q value\")\n",
    "            \n",
    "            self.q = q\n",
    "\n",
    "        self.F = GF(self.q)\n",
    "        self.R = PolynomialRing(self.F, name=\"w\")\n",
    "        w = (self.R).gen()\n",
    "\n",
    "        phi = w ^ n + 1\n",
    "        self.xi = phi.roots(multiplicities=False)[0]\n",
    "        rs = [self.xi ^ (2 * i + 1)  for i in range(n)] \n",
    "        self.base = crt_basis([(w - r) for r in rs])\n",
    "\n",
    "\n",
    "    def _expand_(self, f):\n",
    "        u = f.list()\n",
    "        return u + [0] * (self.n - len(u))\n",
    "\n",
    "\n",
    "    def _ntt_(self, xi, N, f):\n",
    "        if N == 1:\n",
    "            return f\n",
    "            \n",
    "        N_ =  N // 2\n",
    "        xi2 =  xi ^ 2\n",
    "        f0 = [f[2 * i] for i in range(N_)]\n",
    "        f1 = [f[2 * i + 1] for i in range(N_)] \n",
    "        ff0 = self._ntt_(xi2, N_, f0)\n",
    "        ff1 = self._ntt_(xi2, N_, f1)\n",
    "    \n",
    "        s  = xi\n",
    "        ff = [None] * N\n",
    "\n",
    "        for i in range(N_):\n",
    "            ff[i] = ff0[i] + s * ff1[i]\n",
    "            ff[i + N_] = ff0[i] - s * ff1[i]\n",
    "            s *= xi2\n",
    "\n",
    "        return ff \n",
    "\n",
    "    \n",
    "    def ntt(self, f):\n",
    "        return self._ntt_(self.xi, self.n, self._expand_(f))\n",
    "        \n",
    "    def ntt_inv(self,ff):\n",
    "        return sum([ff[i] * self.base[i] for i in range(self.n)])\n",
    "    \n",
    "    def random_pol(self, args):\n",
    "        return (self.R).random_element(args)"
   ]
  },
  {
   "cell_type": "markdown",
   "metadata": {},
   "source": [
    "### Testes de aplicação"
   ]
  },
  {
   "cell_type": "code",
   "execution_count": 3,
   "metadata": {},
   "outputs": [
    {
     "name": "stdout",
     "output_type": "stream",
     "text": [
      "Successful test!\n"
     ]
    }
   ],
   "source": [
    "T = NTT_CRT(2048, None)\n",
    "pol = T.random_pol(1024)\n",
    "ff = T.ntt(pol)\n",
    "inv_ff = T.ntt_inv(ff)\n",
    "\n",
    "if pol == inv_ff:\n",
    "    print('Successful test!')\n",
    "\n",
    "else:\n",
    "    print('Error!')"
   ]
  }
 ],
 "metadata": {
  "kernelspec": {
   "display_name": "SageMath 10.1",
   "language": "sage",
   "name": "sagemath"
  },
  "language_info": {
   "codemirror_mode": {
    "name": "ipython",
    "version": 3
   },
   "file_extension": ".py",
   "mimetype": "text/x-python",
   "name": "python",
   "nbconvert_exporter": "python",
   "pygments_lexer": "ipython3",
   "version": "3.11.6"
  }
 },
 "nbformat": 4,
 "nbformat_minor": 2
}
