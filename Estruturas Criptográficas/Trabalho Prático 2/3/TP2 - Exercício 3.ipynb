{
 "cells": [
  {
   "cell_type": "markdown",
   "metadata": {},
   "source": [
    "# Estruturas Criptográficas\n",
    "## Trabalho Prático 2 - Exercício 3\n",
    "### José de Matos Moreira - PG53963\n",
    "### Pedro Freitas - PG52700"
   ]
  },
  {
   "cell_type": "markdown",
   "metadata": {},
   "source": [
    "## Enunciado do problema\n",
    "O algoritmo de **Boneh e Franklin** (BF), discutido no **Capítulo 5b: Curvas Elípticas e sua Aritmética**, é uma técnica fundamental na chamada **“Criptografia Orientada à Identidade”**. Seguindo as orientações definidas nesse texto, pretende-se construir, usando **Sagemath**, uma classe **Python** que implemente este criptossistema."
   ]
  },
  {
   "cell_type": "markdown",
   "metadata": {},
   "source": [
    "## Resolução"
   ]
  },
  {
   "cell_type": "markdown",
   "metadata": {},
   "source": [
    "Em primeiro lugar, apresentam-se os *imports* efetuados."
   ]
  },
  {
   "cell_type": "code",
   "execution_count": 1,
   "metadata": {},
   "outputs": [],
   "source": [
    "from sage.all import *\n",
    "import hashlib\n",
    "import random"
   ]
  },
  {
   "cell_type": "markdown",
   "metadata": {},
   "source": [
    "### BF"
   ]
  },
  {
   "cell_type": "markdown",
   "metadata": {},
   "source": [
    "Tendo como base a teoria e o código presentes no **Capítulo 5b**, elaborou-se todo este exercício dentro da classe **BF**. Aqui, desenvolveram-se as várias funções responsáveis, não só, pela aplicação do algoritmo, mas, também, todas as funções auxiliares de *hash* e conversão. Deste modo, passa-se, assim, a explicar toda a resolução do presente exercício:\n",
    "* **\\_\\_init\\_\\_**: o construtor da classe inicializa os parâmetros necessários para o esquema criptográfico. Ele recebe um parâmetro **lmbda**, que é usado na geração dos parâmetros de segurança e, posteriormente, na criação do valor primo **q**. Posteriormente e, recorrendo ao código fornecido, definiram-se as variáveis correspondentes à curva elítica e ao grupo de torção\n",
    "* **phi**: representa a isogenia responsável pelo mapeamento **(x, y) -> (z * x, y)**, recorrendo à curva elítica definida em fase de construção da classe\n",
    "* **ex**: função responsável pelo emparelhamento de **Tate**\n",
    "* **trace**: função auxiliar que soma um ponto **P** com o resultado do mesmo elevado ao primo **p**\n",
    "* **Zr**: **PRG** que, a partir de um *nounce*, gera um número pertencente a $\\mathbb{Z}_q$ ($\\mathbb{N}$ -> $\\mathbb{Z}_q$)\n",
    "* **f**: função que, recorrendo à função **trace**, cria um valor em $\\mathbb{Z}$, a partir de um ponto pertencente a $\\mathbb{F}_{p^2}$\n",
    "* **h**: função responsável pela conversão Bytes -> $\\mathbb{Z}$\n",
    "* **H**: algoritmo que, recorrendo a uma função de *hash*, aplica a conversão $\\mathbb{Z}$ -> $\\mathbb{Z}_q$\n",
    "* **g**: função que, recorrendo a um inteiro, calcula um elemento pertencente ao grupo de torção $\\mathbb{G}$ ($\\mathbb{Z}$ -> $\\mathbb{G}$)\n",
    "* **id**: recorrendo às funções **g** e **h**, anteriormente mencionadas, transforma um valor em **bytes** num valor pertencente ao grupo de torção\n",
    "* **keygen**: algoritmo que gera um segredo administrativo e uma chave pública administrativa\n",
    "* **keyextract**: função que usa a informação de administração para extrair a chave privada associada à chave pública\n",
    "* **in_encrypt**: responsável por preparar os dados de entrada para o processo de cifragem\n",
    "* **out_encrypt**: função que cifra os dados de entrada\n",
    "* **encrypt**: algoritmo que, recorrendo às duas funções anteriores, realiza o processo completo de cifragem\n",
    "* **in_decrypt**: função que, analogamente, prepara os dados de entrada para o processo de decifragem\n",
    "* **out_decrypt**: função que, a partir dos dados anteriormente gerados, realiza o processo de decifragem\n",
    "* **decrypt**: algoritmo que, a partir das duas funções anteriormente descritas, aplica o processo completo de decifragem as dados cifrados"
   ]
  },
  {
   "cell_type": "code",
   "execution_count": 2,
   "metadata": {},
   "outputs": [],
   "source": [
    "class BF():\n",
    "\n",
    "    def __init__(self, lmbda):\n",
    "        self.lmbda = lmbda\n",
    "        self.bq = 2 ^ (self.lmbda - 1)\n",
    "        self.bp = 2 ^ self.lmbda - 1\n",
    "        self.q = random_prime(self.bp, lbound = self.bq)\n",
    "\n",
    "\n",
    "        t = self.q * 3 * 2 ^ (self.bp - self.bq)\n",
    "        while not (t - 1).is_prime():\n",
    "            t = t << 1\n",
    "\n",
    "        self.p = t - 1\n",
    "        Fp = GF(self.p)\n",
    "        R.<z> = Fp[]\n",
    "        f = R(z ^ 2 + z + 1)\n",
    "        Fp2.<z> = GF(self.p ^ 2, modulus=f)\n",
    "        self.z = z\n",
    "        self.E2 = EllipticCurve(Fp2, [0,1])\n",
    "\n",
    "        cofac = (self.p + 1) // self.q\n",
    "        self.G = cofac * self.E2.random_point()\n",
    "\n",
    "    \n",
    "    def phi(self, P):\n",
    "        (x, y) = P.xy()\n",
    "\n",
    "        return self.E2(self.z * x, y)\n",
    "\n",
    "\n",
    "    def ex(self, P, Q, l=1):\n",
    "        return P.tate_pairing(self.phi(Q), self.q, 2) ^ l\n",
    "    \n",
    "\n",
    "    def trace(self, P):\n",
    "        return P + P ^ self.p\n",
    "\n",
    "\n",
    "    def Zr(self, nounce):\n",
    "        encoded_nounce = str(nounce).encode()\n",
    "        hashed_nounce = hashlib.sha256(encoded_nounce).digest()\n",
    "        int_hashed_nounce = int.from_bytes(hashed_nounce, byteorder='big') % self.q\n",
    "\n",
    "        return int_hashed_nounce\n",
    "    \n",
    "\n",
    "    def f(self, P):\n",
    "        tp = self.trace(P)\n",
    "        \n",
    "        return ZZ(tp)\n",
    "\n",
    "    \n",
    "    def h(self, bts):\n",
    "        hash_object = hashlib.sha256()\n",
    "        hash_object.update(bts)\n",
    "        hex_hash = hash_object.hexdigest()\n",
    "\n",
    "        return Integer('0x' + hex_hash)\n",
    "\n",
    "\n",
    "    def H(self, z):\n",
    "        encoded_z = str(z).encode()\n",
    "        hashed_z = hashlib.sha256(encoded_z).digest()\n",
    "        int_hashed_z = int.from_bytes(hashed_z, byteorder='big') % self.q\n",
    "\n",
    "        return int_hashed_z\n",
    "\n",
    "    \n",
    "    def g(self, s):\n",
    "        return s * self.G\n",
    "    \n",
    "\n",
    "    def id(self, bts):\n",
    "        return self.g(self.h(bts))\n",
    "\n",
    "\n",
    "    def keygen(self):\n",
    "        s = self.Zr(random.randint(self.bq, self.bp))\n",
    "        beta = self.g(s)\n",
    "\n",
    "        return s, beta\n",
    "    \n",
    "\n",
    "    def keyextract(self, id, s):\n",
    "        d = self.id(id)\n",
    "\n",
    "        return s * d\n",
    "    \n",
    "\n",
    "    def in_encrypt(self, id, x, beta):\n",
    "        d = self.id(id)\n",
    "        v = self.Zr(random.randint(self.bq, self.bp))\n",
    "        a = self.H(v ^^ x)\n",
    "        u = self.ex(beta, d, a)\n",
    "\n",
    "        return x, v, a, u\n",
    "    \n",
    "    \n",
    "    def out_encrypt(self, x, v, a, u):\n",
    "        alpha = self.g(a)\n",
    "        vl = v ^^ self.f(u)\n",
    "        xl = x ^^ self.H(v)\n",
    "\n",
    "        return alpha, vl, xl\n",
    "\n",
    "\n",
    "    def encrypt(self, id, x, beta):\n",
    "        x, v, a, u = self.in_encrypt(id, x, beta)\n",
    "\n",
    "        return self.out_encrypt(x, v, a, u)\n",
    "    \n",
    "\n",
    "    def in_decrypt(self, alpha, vl, xl, key):\n",
    "        u = self.ex(alpha, key, 1)\n",
    "        v = vl ^^ self.f(u)\n",
    "        x = xl ^^ self.H(v)\n",
    "\n",
    "        return alpha, v, x\n",
    "    \n",
    "\n",
    "    def out_decrypt(self, alpha, v, x):\n",
    "        a = self.H(v ^^ x)\n",
    "        if alpha != self.g(a):\n",
    "            return None\n",
    "        \n",
    "        return x\n",
    "    \n",
    "\n",
    "    def decrypt(self, key, alpha, vl, xl):\n",
    "        alpha, v, x = self.in_decrypt(alpha, vl, xl, key)\n",
    "\n",
    "        return self.out_decrypt(alpha, v, x)"
   ]
  },
  {
   "cell_type": "markdown",
   "metadata": {},
   "source": [
    "### Testes de aplicação"
   ]
  },
  {
   "cell_type": "code",
   "execution_count": 3,
   "metadata": {},
   "outputs": [
    {
     "name": "stdout",
     "output_type": "stream",
     "text": [
      "[CORRECT DECRYPTION] 24061987\n"
     ]
    }
   ],
   "source": [
    "id = b'messi'\n",
    "x = 24061987\n",
    "bf_cs = BF(7)\n",
    "s, beta = bf_cs.keygen()\n",
    "key = bf_cs.keyextract(id, s)\n",
    "\n",
    "\n",
    "alpha, vl, xl = bf_cs.encrypt(id, x, beta)\n",
    "decryption = bf_cs.decrypt(key, alpha, vl, xl)\n",
    "\n",
    "if decryption == None:\n",
    "    print('[ERROR] decryption failed')\n",
    "else:\n",
    "    print(f'[CORRECT DECRYPTION] {decryption}')"
   ]
  }
 ],
 "metadata": {
  "kernelspec": {
   "display_name": "SageMath 10.1",
   "language": "sage",
   "name": "sagemath"
  },
  "language_info": {
   "codemirror_mode": {
    "name": "ipython",
    "version": 3
   },
   "file_extension": ".py",
   "mimetype": "text/x-python",
   "name": "python",
   "nbconvert_exporter": "python",
   "pygments_lexer": "ipython3",
   "version": "3.11.6"
  }
 },
 "nbformat": 4,
 "nbformat_minor": 2
}
