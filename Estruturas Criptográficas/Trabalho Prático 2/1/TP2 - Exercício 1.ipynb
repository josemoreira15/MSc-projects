{
 "cells": [
  {
   "cell_type": "markdown",
   "metadata": {},
   "source": [
    "# Estruturas Criptográficas\n",
    "## Trabalho Prático 2 - Exercício 1\n",
    "### José de Matos Moreira - PG53963\n",
    "### Pedro Freitas - PG52700"
   ]
  },
  {
   "cell_type": "markdown",
   "metadata": {},
   "source": [
    "## Enunciado do problema\n",
    "Construir uma classe **Python** que implemente o **EdDSA** a partir do *standard* **FIPS186-5**.\n",
    "* a implementação deve conter funções para assinar digitalmente e verificar a assinatura\n",
    "* a implementação da classe deve usar uma das **“Twisted Edwards Curves”** definidas no *standard* e escolhida na iniciação da classe: a curva **“edwards25519”** ou **“edwards448”**"
   ]
  },
  {
   "cell_type": "markdown",
   "metadata": {},
   "source": [
    "## Resolução"
   ]
  },
  {
   "cell_type": "markdown",
   "metadata": {},
   "source": [
    "Em primeiro lugar, mostra-se necessário importar os módulos a utilizar:"
   ]
  },
  {
   "cell_type": "code",
   "execution_count": 3,
   "metadata": {},
   "outputs": [],
   "source": [
    "import hashlib\n",
    "import os"
   ]
  },
  {
   "cell_type": "markdown",
   "metadata": {},
   "source": [
    "### Funções úteis"
   ]
  },
  {
   "cell_type": "markdown",
   "metadata": {},
   "source": [
    "Neste presente espaço, explica-se, assim, todas as funções utilizadas que não pertencem a nenhuma classe específica:\n",
    "* **sqrt4k3**: função que calcula a raiz quadrada modular de x em relação ao módulo p, onde p é um primo congruente a 3 (mod 4)\n",
    "* **sqrt8k5**: função que calcula a raiz quadrada modular de x em relação ao módulo p, onde p é um primo congruente a 5 (mod 8)\n",
    "* **from_le**: função responsável por converter um conjunto de *bytes* num número inteiro, na ordem *little-endian*\n",
    "* **sha512**: função que aplica o algortimo de *hash* criptográfico denominado **SHA-512** a um conjunto de *bytes*\n",
    "* **shake256**: função que calcula um *hash* seguro, recorrendo ao algoritmo **SHAKE256**, de tamanho definido em argumento\n",
    "* **ed448_hash**: função característica de esquemas de assinatura **Edwards-Curve Digital Signature Algorithm** (EdDSA), com a curva de **edwardsed448**, que cria um *hash*, recorrendo à função anteriormente mencionada"
   ]
  },
  {
   "cell_type": "code",
   "execution_count": 1,
   "metadata": {},
   "outputs": [],
   "source": [
    "def sqrt4k3(x, p): \n",
    "    return pow(x, (p + 1) // 4, p)\n",
    "\n",
    "\n",
    "def sqrt8k5(x, p):\n",
    "    y = pow(x, (p + 3) // 8, p)\n",
    "\n",
    "    if (y * y) % p == x % p: \n",
    "        return y\n",
    "    else:\n",
    "        z = pow(2, (p - 1) // 4, p)\n",
    "        return (y * z) % p\n",
    "\n",
    "\n",
    "def from_le(s): \n",
    "    return int.from_bytes(s, byteorder=\"little\")\n",
    "\n",
    "\n",
    "def sha512(data):\n",
    "    return hashlib.sha512(data).digest()\n",
    "\n",
    "\n",
    "def shake256(data, olen):\n",
    "    hasher = hashlib.shake_256()\n",
    "    hasher.update(data)\n",
    "\n",
    "    return hasher.digest(olen)\n",
    "\n",
    "\n",
    "def ed448_hash(data):\n",
    "    dompfx = b\"SigEd448\" + bytes([0, 0])\n",
    "\n",
    "    return shake256(dompfx + data, 114)"
   ]
  },
  {
   "cell_type": "markdown",
   "metadata": {},
   "source": [
    "### Field"
   ]
  },
  {
   "cell_type": "markdown",
   "metadata": {},
   "source": [
    "De seguida, passou-se à implementação da classe **Field**. Esta mesma classe representa um elemento de um campo finito e inclui diversos métodos, responsáveis por: iniciação da classe, verificações relativas ao elemento, operações aritméticas, negação, cálculo do inverso multiplicativo e da raiz quadrada do elemento, criação de novos elementos e conversões. "
   ]
  },
  {
   "cell_type": "code",
   "execution_count": 4,
   "metadata": {},
   "outputs": [],
   "source": [
    "class Field:\n",
    "\n",
    "    def __init__(self, x, p):\n",
    "        self.x = x % p\n",
    "        self.p = p\n",
    "\n",
    "\n",
    "    def check_fields(self, y):\n",
    "        if type(y) is not Field or self.p != y.p:\n",
    "            raise ValueError(\"[ERROR] fields don't match\")    \n",
    "    \n",
    "\n",
    "    def __add__(self, y):\n",
    "        self.check_fields(y)\n",
    "        return Field(self.x + y.x, self.p)\n",
    "    \n",
    "\n",
    "    def __sub__(self, y):\n",
    "        self.check_fields(y)\n",
    "        return Field(self.p + self.x - y.x, self.p)\n",
    "        \n",
    "\n",
    "    def __neg__(self):\n",
    "        return Field(self.p - self.x, self.p)\n",
    "    \n",
    "\n",
    "    def __mul__(self, y):\n",
    "        self.check_fields(y)\n",
    "        return Field(self.x * y.x, self.p)\n",
    "    \n",
    "\n",
    "    def __truediv__(self, y):\n",
    "        return self * y.inv()\n",
    "    \n",
    "\n",
    "    def inv(self):\n",
    "        return Field(pow(self.x, self.p - 2, self.p), self.p)\n",
    "    \n",
    "\n",
    "    def sqrt(self):\n",
    "        if self.p % 4 == 3: \n",
    "            y = sqrt4k3(self.x, self.p)\n",
    "\n",
    "        elif self.p % 8 == 5: \n",
    "            y = sqrt8k5(self.x, self.p)\n",
    "        else: \n",
    "            raise NotImplementedError(\"[ERROR] sqrt\")\n",
    "        \n",
    "        _y = Field(y, self.p)\n",
    "\n",
    "        return _y if _y * _y == self else None\n",
    "    \n",
    "\n",
    "    def make(self, ival): \n",
    "        return Field(ival, self.p)\n",
    "    \n",
    "    \n",
    "    def iszero(self): \n",
    "        return self.x == 0\n",
    "    \n",
    "    \n",
    "    def __eq__(self,y): \n",
    "        return self.x == y.x and self.p == y.p\n",
    "\n",
    "    \n",
    "    def __ne__(self,y): \n",
    "        return not (self == y)\n",
    "    \n",
    "    \n",
    "    def tobytes(self, b):\n",
    "        return self.x.to_bytes(b // 8, byteorder=\"little\")\n",
    "    \n",
    "    \n",
    "    def frombytes(self, x, b):\n",
    "        rv = from_le(x) % (2 ** (b - 1))\n",
    "        return Field(rv, self.p) if rv < self.p else None\n",
    "    \n",
    "    \n",
    "    def sign(self): \n",
    "        return self.x % 2"
   ]
  },
  {
   "cell_type": "markdown",
   "metadata": {},
   "source": [
    "### EdwardsPoint"
   ]
  },
  {
   "cell_type": "markdown",
   "metadata": {},
   "source": [
    "Aqui, apresenta-se a classe **EdwardsPoint**. Esta é a que se assume como um ponto numa curva de **Edwards**. Na mesma, encontram-se diversas funções capazes de: inicializar um ponto, descompactar uma representação compactada de um ponto, compactar um ponto e efetuar operações aritméticas sobre pontos."
   ]
  },
  {
   "cell_type": "code",
   "execution_count": 5,
   "metadata": {},
   "outputs": [],
   "source": [
    "class EdwardsPoint:\n",
    "\n",
    "    def initpoint(self, x, y):\n",
    "        self.x = x\n",
    "        self.y = y\n",
    "        self.z = self.base_field.make(1)\n",
    "\n",
    "\n",
    "    def decode_base(self, s, b):\n",
    "        if len(s) != b // 8: \n",
    "            return (None, None)\n",
    "        \n",
    "        xs = s[(b - 1) // 8] >> ((b - 1) & 7)\n",
    "\n",
    "        y = self.base_field.frombytes(s, b)\n",
    "        if y is None: \n",
    "            return (None, None)\n",
    "\n",
    "        x = self.solve_x2(y).sqrt()\n",
    "        if x is None or (x.iszero() and xs != x.sign()):\n",
    "            return (None, None)\n",
    "\n",
    "        if x.sign() != xs: \n",
    "            x = -x\n",
    "\n",
    "        return (x, y)\n",
    "    \n",
    "\n",
    "    def encode_base(self, b):\n",
    "        xp, yp = self.x / self.z, self.y / self.z\n",
    "\n",
    "        s = bytearray(yp.tobytes(b))\n",
    "\n",
    "        if xp.sign() != 0: \n",
    "            s[(b - 1) // 8] |= 1 << (b - 1) % 8\n",
    "\n",
    "        return s\n",
    "    \n",
    "\n",
    "    def __mul__(self, x):\n",
    "        r = self.zero_elem()\n",
    "        s = self\n",
    "\n",
    "        while x > 0:\n",
    "            if (x % 2) > 0:\n",
    "                r = r + s\n",
    "            s = s.double()\n",
    "            x = x // 2\n",
    "\n",
    "        return r\n",
    "    \n",
    "\n",
    "    def __eq__(self, y):\n",
    "        xn1 = self.x * y.z\n",
    "        xn2 = y.x * self.z\n",
    "        yn1 = self.y * y.z\n",
    "        yn2 = y.y * self.z\n",
    "\n",
    "        return xn1 == xn2 and yn1 == yn2\n",
    "    \n",
    "\n",
    "    def __ne__(self,y): \n",
    "        return not (self == y)"
   ]
  },
  {
   "cell_type": "markdown",
   "metadata": {},
   "source": [
    "### Edwards25519Point"
   ]
  },
  {
   "cell_type": "markdown",
   "metadata": {},
   "source": [
    "Nesta classe e, recorrendo-se à classe anteriormente explicada, definem-se as várias características e as várias funções relativas, exclusivamente, a um ponto de uma curva **edwards25519**. "
   ]
  },
  {
   "cell_type": "code",
   "execution_count": 6,
   "metadata": {},
   "outputs": [],
   "source": [
    "class Edwards25519Point(EdwardsPoint):\n",
    "\n",
    "    base_field = Field(1, 2 ** 255 - 19)\n",
    "    d = -base_field.make(121665) / base_field.make(121666)\n",
    "    f0 = base_field.make(0)\n",
    "    f1 = base_field.make(1)\n",
    "    xb = base_field.make(15112221349535400772501151409588531511454012693041857206046113283949847762202)\n",
    "    yb = base_field.make(46316835694926478169428394003475163141307993866256225615783033603165251855960)\n",
    "\n",
    "\n",
    "    @staticmethod\n",
    "    def stdbase():\n",
    "        return Edwards25519Point(Edwards25519Point.xb, Edwards25519Point.yb)\n",
    "    \n",
    "\n",
    "    def __init__(self, x, y):\n",
    "        if y * y - x * x != self.f1 + self.d * x * x * y * y:\n",
    "            raise ValueError(\"[ERROR] invalid point\")\n",
    "        self.initpoint(x, y)\n",
    "        self.t = x * y\n",
    "\n",
    "\n",
    "    def decode(self, s):\n",
    "        x, y = self.decode_base(s, 256)\n",
    "        return Edwards25519Point(x, y) if x is not None else None\n",
    "\n",
    "\n",
    "    def encode(self):\n",
    "        return self.encode_base(256)\n",
    "    \n",
    "\n",
    "    def zero_elem(self):\n",
    "        return Edwards25519Point(self.f0, self.f1)\n",
    "    \n",
    "\n",
    "    def solve_x2(self, y):\n",
    "        return ((y * y - self.f1) / (self.d * y * y + self.f1))\n",
    "    \n",
    "\n",
    "    def __add__(self, y):\n",
    "        tmp = self.zero_elem()\n",
    "        zcp = self.z * y.z\n",
    "        A = (self.y - self.x) * (y.y - y.x)\n",
    "        B = (self.y + self.x) * (y.y + y.x)\n",
    "        C = (self.d + self.d) * self.t * y.t\n",
    "        D = zcp + zcp\n",
    "        E, H = B - A, B + A\n",
    "        F, G = D - C, D + C\n",
    "        tmp.x, tmp.y, tmp.z, tmp.t = E * F, G * H, F * G, E * H\n",
    "\n",
    "        return tmp\n",
    "    \n",
    "\n",
    "    def double(self):\n",
    "        tmp = self.zero_elem()\n",
    "        A = self.x * self.x\n",
    "        B = self.y * self.y\n",
    "        Ch = self.z * self.z\n",
    "        C = Ch + Ch\n",
    "        H = A + B\n",
    "        xys = self.x + self.y\n",
    "        E = H - xys * xys\n",
    "        G = A - B\n",
    "        F = C + G\n",
    "        tmp.x, tmp.y, tmp.z, tmp.t = E * F, G * H, F * G, E * H\n",
    "\n",
    "        return tmp"
   ]
  },
  {
   "cell_type": "markdown",
   "metadata": {},
   "source": [
    "### Edwards448Point"
   ]
  },
  {
   "cell_type": "markdown",
   "metadata": {},
   "source": [
    "Analogamente ao que foi descrito anteriormente, nesta classe apresentam-se as várias particularidades de um ponto que, desta vez, pertence a uma curva **edwards448**."
   ]
  },
  {
   "cell_type": "code",
   "execution_count": 7,
   "metadata": {},
   "outputs": [],
   "source": [
    "class Edwards448Point(EdwardsPoint):\n",
    "\n",
    "    base_field = Field(1, 2 ** 448 - 2 ** 224 - 1)\n",
    "    d = base_field.make(-39081)\n",
    "    f0 = base_field.make(0)\n",
    "    f1 = base_field.make(1)\n",
    "    xb = base_field.make(224580040295924300187604334099896036246789641632564134246125461686950415467406032909029192869357953282578032075146446173674602635247710)\n",
    "    yb = base_field.make(298819210078481492676017930443930673437544040154080242095928241372331506189835876003536878655418784733982303233503462500531545062832660)\n",
    "\n",
    "\n",
    "    @staticmethod\n",
    "    def stdbase():\n",
    "        return Edwards448Point(Edwards448Point.xb, Edwards448Point.yb)\n",
    "    \n",
    "\n",
    "    def __init__(self, x, y):\n",
    "        if y * y + x * x != self.f1 + self.d * x * x * y * y:\n",
    "            raise ValueError(\"[ERROR] invalid point\")\n",
    "        self.initpoint(x, y)\n",
    "\n",
    "\n",
    "    def decode(self, s):\n",
    "        x, y = self.decode_base(s, 456)\n",
    "        return Edwards448Point(x, y) if x is not None else None\n",
    "    \n",
    "\n",
    "    def encode(self):\n",
    "        return self.encode_base(456)\n",
    "    \n",
    "\n",
    "    def zero_elem(self):\n",
    "        return Edwards448Point(self.f0, self.f1)\n",
    "    \n",
    "\n",
    "    def solve_x2(self,y):\n",
    "        return ((y*y-self.f1)/(self.d*y*y-self.f1))\n",
    "\n",
    "\n",
    "    def __add__(self,y):\n",
    "        tmp = self.zero_elem()\n",
    "        xcp, ycp, zcp = self.x * y.x, self.y * y.y, self.z * y.z\n",
    "        B = zcp * zcp\n",
    "        E = self.d * xcp * ycp\n",
    "        F, G = B - E, B + E\n",
    "        tmp.x = zcp * F *((self.x + self.y) * (y.x + y.y) - xcp - ycp)\n",
    "        tmp.y, tmp.z = zcp * G * (ycp - xcp), F * G\n",
    "\n",
    "        return tmp\n",
    "    \n",
    "\n",
    "    def double(self):\n",
    "        tmp = self.zero_elem()\n",
    "        x1s, y1s, z1s = self.x * self.x, self.y * self.y, self.z * self.z\n",
    "        xys = self.x + self.y\n",
    "        F = x1s + y1s\n",
    "        J = F - (z1s + z1s)\n",
    "        tmp.x, tmp.y, tmp.z = (xys * xys - x1s - y1s) * J, F * (x1s - y1s), F * J\n",
    "\n",
    "        return tmp"
   ]
  },
  {
   "cell_type": "markdown",
   "metadata": {},
   "source": [
    "### EdDSA"
   ]
  },
  {
   "cell_type": "markdown",
   "metadata": {},
   "source": [
    "Em último lugar, surge a classe que reúne tudo aquilo que foi implementado até ao momento e que é, portanto, a classe mãe de todo o trabalho desenvolvido. Na **EdDSA**, encontra-se implementado o esquema de assinatura digital **Edwards-Curve Digital Signature Algorithm** para duas curvas específicas: **edwards25519** e **edwards448**. Tal como pedido pelo enunciado do projeto, esta mesma classe possui funções capazes de assinar digitalmente e de verificar a assinatura."
   ]
  },
  {
   "cell_type": "code",
   "execution_count": 8,
   "metadata": {},
   "outputs": [],
   "source": [
    "class EdDSA:\n",
    "\n",
    "    def __init__(self, curve):\n",
    "        if curve == 'edwards25519':\n",
    "            self.B = Edwards25519Point.stdbase()\n",
    "            self.H = sha512\n",
    "            self.l = 7237005577332262213973186563042994240857116359379907606001950938285454250989\n",
    "            self.n = 254\n",
    "            self.b = 256\n",
    "            self.c = 3\n",
    "        \n",
    "        elif curve == 'edwards448':\n",
    "            self.B = Edwards448Point.stdbase()\n",
    "            self.H = ed448_hash\n",
    "            self.l = 181709681073901722637330951972001133588410340171829515070372549795146003961539585716195755291692375963310293709091662304773755859649779\n",
    "            self.n = 447\n",
    "            self.b = 456\n",
    "            self.c = 2\n",
    "\n",
    "        else:\n",
    "            raise ValueError(\"[ERROR] not accepted curve name\")\n",
    "\n",
    "\n",
    "    def clamp(self, a):\n",
    "        _a = bytearray(a)\n",
    "        for i in range(0, self.c): \n",
    "            _a[i // 8] &= ~(1 << (i % 8))\n",
    "        _a[self.n // 8] |= 1 << (self.n % 8)\n",
    "\n",
    "        for i in range(self.n + 1, self.b): \n",
    "            _a[i // 8] &= ~(1 << (i % 8))\n",
    "\n",
    "        return _a\n",
    "    \n",
    "\n",
    "    def keygen(self, privkey):\n",
    "        if privkey is None: \n",
    "            privkey = os.urandom(self.b // 8)\n",
    "\n",
    "        khash = self.H(privkey)\n",
    "        a = from_le(self.clamp(khash[:self.b // 8]))\n",
    "\n",
    "        return privkey, (self.B * a).encode()\n",
    "    \n",
    "\n",
    "    def sign(self, privkey, pubkey, msg):\n",
    "        khash = self.H(privkey)\n",
    "        a = from_le(self.clamp(khash[:self.b // 8]))\n",
    "        seed = khash[self.b // 8:]\n",
    "        r = from_le(self.H(seed + msg)) % self.l\n",
    "        R = (self.B * r).encode()\n",
    "        h = from_le(self.H(R + pubkey + msg)) % self.l\n",
    "        S = ((r + h * a) % self.l).to_bytes(self.b // 8, byteorder=\"little\")\n",
    "\n",
    "        return R + S\n",
    "    \n",
    "\n",
    "    def verify(self, pubkey, msg, sig):\n",
    "        if len(sig) != self.b // 4: \n",
    "            return False\n",
    "        \n",
    "        if len(pubkey) != self.b // 8: \n",
    "            return False\n",
    "        \n",
    "        Rraw , Sraw = sig[:self.b // 8], sig[self.b // 8:]\n",
    "        R, S = self.B.decode(Rraw), from_le(Sraw)\n",
    "        A = self.B.decode(pubkey)\n",
    "\n",
    "        if (R is None) or (A is None) or S >= self.l: \n",
    "            return False\n",
    "        \n",
    "        h = from_le(self.H(Rraw + pubkey + msg)) % self.l\n",
    "\n",
    "        rhs = R + (A * h)\n",
    "        lhs = self.B * S\n",
    "        for _ in range(0, self.c):\n",
    "            lhs = lhs.double()\n",
    "            rhs = rhs.double()\n",
    "\n",
    "        return lhs == rhs"
   ]
  },
  {
   "cell_type": "markdown",
   "metadata": {},
   "source": [
    "### Testes de aplicação"
   ]
  },
  {
   "cell_type": "markdown",
   "metadata": {},
   "source": [
    "#### Edwards25519"
   ]
  },
  {
   "cell_type": "code",
   "execution_count": 9,
   "metadata": {},
   "outputs": [
    {
     "name": "stdout",
     "output_type": "stream",
     "text": [
      "Signature accepted!\n"
     ]
    }
   ],
   "source": [
    "ed25519 = EdDSA('edwards25519')\n",
    "priv25519, pub25519 = ed25519.keygen(None)\n",
    "message = b'lionel messi'\n",
    "\n",
    "sign = ed25519.sign(priv25519, pub25519, message)\n",
    "verify = ed25519.verify(pub25519, b'lionel messi', sign)\n",
    "\n",
    "if verify == True:\n",
    "    print('Signature accepted!')\n",
    "\n",
    "else:\n",
    "    print('Error verifying the signature!')"
   ]
  },
  {
   "cell_type": "code",
   "execution_count": 10,
   "metadata": {},
   "outputs": [
    {
     "name": "stdout",
     "output_type": "stream",
     "text": [
      "Error verifying the signature!\n"
     ]
    }
   ],
   "source": [
    "ed25519 = EdDSA('edwards25519')\n",
    "priv25519, pub25519 = ed25519.keygen(None)\n",
    "message = b'lionel messi'\n",
    "\n",
    "sign = ed25519.sign(priv25519, pub25519, message)\n",
    "verify = ed25519.verify(pub25519, b'not the goat', sign)\n",
    "\n",
    "if verify == True:\n",
    "    print('Signature accepted!')\n",
    "\n",
    "else:\n",
    "    print('Error verifying the signature!')"
   ]
  },
  {
   "cell_type": "markdown",
   "metadata": {},
   "source": [
    "#### Edwards448"
   ]
  },
  {
   "cell_type": "code",
   "execution_count": 11,
   "metadata": {},
   "outputs": [
    {
     "name": "stdout",
     "output_type": "stream",
     "text": [
      "Signature accepted!\n"
     ]
    }
   ],
   "source": [
    "ed448 = EdDSA('edwards448')\n",
    "priv448, pub448 = ed448.keygen(None)\n",
    "message = b'the goat'\n",
    "\n",
    "sign = ed448.sign(priv448, pub448, message)\n",
    "verify = ed448.verify(pub448, b'the goat', sign)\n",
    "\n",
    "if verify == True:\n",
    "    print('Signature accepted!')\n",
    "\n",
    "else:\n",
    "    print('Error verifying the signature!')"
   ]
  },
  {
   "cell_type": "code",
   "execution_count": 12,
   "metadata": {},
   "outputs": [
    {
     "name": "stdout",
     "output_type": "stream",
     "text": [
      "Error verifying the signature!\n"
     ]
    }
   ],
   "source": [
    "ed448 = EdDSA('edwards448')\n",
    "priv448, pub448 = ed448.keygen(None)\n",
    "message = b'the goat'\n",
    "\n",
    "sign = ed448.sign(priv448, pub448, message)\n",
    "verify = ed448.verify(pub448, b'not messi', sign)\n",
    "\n",
    "if verify == True:\n",
    "    print('Signature accepted!')\n",
    "\n",
    "else:\n",
    "    print('Error verifying the signature!')"
   ]
  }
 ],
 "metadata": {
  "kernelspec": {
   "display_name": "ec2324",
   "language": "python",
   "name": "python3"
  },
  "language_info": {
   "codemirror_mode": {
    "name": "ipython",
    "version": 3
   },
   "file_extension": ".py",
   "mimetype": "text/x-python",
   "name": "python",
   "nbconvert_exporter": "python",
   "pygments_lexer": "ipython3",
   "version": "3.11.6"
  }
 },
 "nbformat": 4,
 "nbformat_minor": 2
}
