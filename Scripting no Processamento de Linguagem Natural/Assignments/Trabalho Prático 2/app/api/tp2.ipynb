{
 "cells": [
  {
   "cell_type": "code",
   "execution_count": 10,
   "metadata": {},
   "outputs": [],
   "source": [
    "from word_embeddings import WB_Model\n",
    "from gensim.models import TfidfModel\n",
    "from gensim.corpora import Dictionary\n",
    "from gensim.similarities import SparseMatrixSimilarity\n",
    "from gensim.utils import simple_preprocess\n",
    "from transformers import pipeline\n",
    "import os"
   ]
  },
  {
   "cell_type": "code",
   "execution_count": 11,
   "metadata": {},
   "outputs": [],
   "source": [
    "wb_model = WB_Model('../../data/dre.json')\n",
    "wb_model.load_model('models/dr.model')"
   ]
  },
  {
   "cell_type": "code",
   "execution_count": 27,
   "metadata": {},
   "outputs": [],
   "source": [
    "sentences = wb_model.sentences\n",
    "\n",
    "metadata = wb_model.metadata"
   ]
  },
  {
   "cell_type": "code",
   "execution_count": 52,
   "metadata": {},
   "outputs": [],
   "source": [
    "dictionary = Dictionary(sentences)\n",
    "\n",
    "corpus_bow = [dictionary.doc2bow(sent) for sent in sentences]\n",
    "\n",
    "tfidf_model = TfidfModel(corpus_bow, normalize=True)\n",
    "\n",
    "index = SparseMatrixSimilarity(tfidf_model[corpus_bow], num_docs= len(corpus_bow), num_terms=len(dictionary))"
   ]
  },
  {
   "cell_type": "code",
   "execution_count": 46,
   "metadata": {},
   "outputs": [],
   "source": [
    "query = 'O que implica a declaração que o conselheiro Joaquim Jorge de Pinho Campinos  apresentou, em 12 de Agosto de 1985?'\n",
    "query_tokens = simple_preprocess(query)"
   ]
  },
  {
   "cell_type": "code",
   "execution_count": 15,
   "metadata": {},
   "outputs": [],
   "source": [
    "def get_text(id):\n",
    "    file_path = f'../../data/texts/{id}.txt'\n",
    "    if os.path.exists(file_path):\n",
    "        with open(file_path, 'r', encoding='utf-8') as file:\n",
    "            return file.read()\n",
    "    return ''"
   ]
  },
  {
   "cell_type": "code",
   "execution_count": 53,
   "metadata": {},
   "outputs": [
    {
     "name": "stdout",
     "output_type": "stream",
     "text": [
      "2394463 Decreto de 29 de março, dando provimento no recurso n.º 13425, em que era recorrente João Pedroso de Freitas 0.8194894214982434\n",
      "1562089 Declaração de contumácia no processo n.º 8/03.4GCRDD, em que é arguido José Francisco Grazina de Deus 0.8178253218124993\n",
      "2432450 Considera sem efeito o decreto de 15 de Maio de 1919, que havia demitido Leopoldo Rui Gomes de Oliveira de primeiro secretário de legação - Reintegra e considera na situação de disponibilidade o referido funcionário 0.8177859401468984\n",
      "2401916 Rectificação ao decreto n.º 398, de 30 de Março, que resolveu o recurso n º 14447, em que era recorrente Aníbal de Assunção Soares 0.8177524990576575\n",
      "2394327 Decreto de 17 de janeiro, rejeitando o recurso n.º 13055, em que era recorrente Manuel Antonio Pereira, de Borba 0.8162497623867817\n",
      "202145 Declara ter sido rectificado o Decreto n.º 101/81, de 31 de Julho, que nomeia o ministro plenipotenciário de 2.ª classe Luís de Vasconcelos Pimentel Quartin Bastos embaixados de Portugal em Kinshasa. 0.8133202767071395\n",
      "4050631 É exonerado, sob proposta do Governo, o ministro plenipotenciário de 1.ª classe Luís João de Sousa Lorvão do cargo de Embaixador de Portugal em Singapura, com efeitos a 3 de janeiro de 2020, transitando para a situação de disponibilidade 0.8103265885082037\n",
      "2394520 Decreto de 25 de abril, negando provimento no recurso n.º 13529, em que era recorrente Benedito Augusto Ferreira da Cruz, de Vagos 0.8090339143163849\n",
      "2395858 Decreto de 8 de Fevereiro, rejeitando o recurso n.º 14002, em que era recorrente Caetano Joaquim Rosário de Meneses, de Margão 0.8089204744885414\n",
      "3055138 Exonera o ministro plenipotenciário de 1.ª classe António Luís Peixoto Cotrim do cargo de Embaixador de Portugal em Santiago do Chile, com efeitos a 18 de setembro de 2017, transitando para a situação de disponibilidade, por ter atingido o limite de idade 0.8085856017448227\n"
     ]
    }
   ],
   "source": [
    "## Caso 1\n",
    "most_similar = wb_model.get_most_similar(query,10)\n",
    "\n",
    "context_case1 = '\\n'.join(get_text(id) for id, note, score in most_similar )\n",
    "\n",
    "for id, notes, score in most_similar:\n",
    "    print(id, notes, score)"
   ]
  },
  {
   "cell_type": "code",
   "execution_count": 54,
   "metadata": {},
   "outputs": [
    {
     "name": "stdout",
     "output_type": "stream",
     "text": [
      "210336 Designa o Prof. Doutor Joaquim Jorge de Pinho Campinos vogal da Comissão Constitucional. 0.4568582\n",
      "11 De ter sido apresentada declaração escrita de renúncia das suas funções de juiz do Tribunal Constitucional pelo conselheiro Joaquim Jorge de Pinho Campinos. 0.43540695\n",
      "2485271 De ter sido apresentada declaração escrita de renúncia das suas funções de juiz do Tribunal Constitucional pelo conselheiro Joaquim Jorge de Pinho Campinos 0.43540695\n",
      "11601 Delega competências do Primeiro-Ministro, Mário Soares no Ministro sem Pasta, Joaquim Jorge de Pinho Campinos. 0.39206162\n",
      "11621 Delega competências do Primeiro-Ministro, Mário Soares no Ministro sem Pasta, Joaquim Jorge de Pinho Campinos. 0.39206162\n",
      "51439 DECLARA QUE O CONSELHEIRO MÁRIO DE BRITO APRESENTOU DECLARAÇÃO ESCRITA DE RENÚNCIA DAS SUAS FUNÇÕES DE JUIZ DO TRIBUNAL CONSTITUCIONAL, A QUAL NAO DEPENDE DE ACEITAÇÃO E IMPLICA A CESSACAO IMEDIATA DE FUNÇÕES. 0.3820706\n",
      "11613 Delega competências do Primeiro-Ministro, Mário Soares no Ministro sem pasta, Joaquim Jorge de Pinho Campinos, relativamente ao Museu da República e da Resistência. 0.33455926\n",
      "1283663 Aplicação de pena de demissão a Mário Jorge Leite Campinos 0.31628293\n",
      "92098 Declara que o conselheiro Guilherme Frederico Dias Pereira da Fonseca apresentou declaração escrita de renúncia às suas funções de juiz do Tribunal Constitucional. 0.30661118\n",
      "11610 Delega competências do Primeiro-Ministro, Mário Soares no Ministro sem pasta, Joaquim Jorge de Pinho Campinos, para despachar os assuntos relativos a vários orçamentos dependentes da Presidência do Conselho de Ministros. 0.3054837\n"
     ]
    }
   ],
   "source": [
    "## Caso 2\n",
    "query_bow = dictionary.doc2bow(query_tokens)\n",
    "tfidf_query = tfidf_model[query_bow]\n",
    "\n",
    "sims = index[tfidf_query]\n",
    "\n",
    "sims_ordered = sorted(enumerate(sims), key= lambda item: item[1], reverse = True)\n",
    "\n",
    "context_case2 = '\\n'.join(get_text(metadata[index]['id']) for index, _ in sims_ordered[:10])\n",
    "\n",
    "for index, sim in sims_ordered[:10]:\n",
    "    print(metadata[index]['id'], metadata[index]['notes'], sim)"
   ]
  },
  {
   "cell_type": "code",
   "execution_count": 56,
   "metadata": {},
   "outputs": [
    {
     "name": "stderr",
     "output_type": "stream",
     "text": [
      "Some weights of the model checkpoint at mrm8488/bert-base-portuguese-cased-finetuned-squad-v1-pt were not used when initializing BertForQuestionAnswering: ['bert.pooler.dense.bias', 'bert.pooler.dense.weight']\n",
      "- This IS expected if you are initializing BertForQuestionAnswering from the checkpoint of a model trained on another task or with another architecture (e.g. initializing a BertForSequenceClassification model from a BertForPreTraining model).\n",
      "- This IS NOT expected if you are initializing BertForQuestionAnswering from the checkpoint of a model that you expect to be exactly identical (initializing a BertForSequenceClassification model from a BertForSequenceClassification model).\n"
     ]
    },
    {
     "name": "stdout",
     "output_type": "stream",
     "text": [
      "# CASO 1: MODELO 0: Decreto do Presidente da República\n",
      "# CASO 2: MODELO 0: cessação imediata de funções\n",
      "# CASO 1: MODELO 1: situação de disponibilidade\n",
      "# CASO 2: MODELO 1: renúncia às suas funções de juiz do Tribunal Constitucional\n",
      "# CASO 1: MODELO 2: inexactidão\n",
      "# CASO 2: MODELO 2: renúncia das suas  funções de juiz do Tribunal Constitucional\n"
     ]
    }
   ],
   "source": [
    "models = [\n",
    "    \"mrm8488/bert-base-portuguese-cased-finetuned-squad-v1-pt\",\n",
    "    \"lfcc/bert-portuguese-squad\",\n",
    "    \"eraldoluis/faquad-bert-base-portuguese-cased\"\n",
    "]\n",
    "\n",
    "for index, model in enumerate(models):\n",
    "    question_answerer = pipeline(\"question-answering\", model=model)\n",
    "    result1 = question_answerer(question=query, context=context_case1)\n",
    "    result2 = question_answerer(question=query, context=context_case2)\n",
    "\n",
    "    print(f\"# CASO 1: MODELO {index}: {result1['answer']}\")\n",
    "    print(f\"# CASO 2: MODELO {index}: {result2['answer']}\")\n",
    "    "
   ]
  }
 ],
 "metadata": {
  "kernelspec": {
   "display_name": "Python 3",
   "language": "python",
   "name": "python3"
  },
  "language_info": {
   "codemirror_mode": {
    "name": "ipython",
    "version": 3
   },
   "file_extension": ".py",
   "mimetype": "text/x-python",
   "name": "python",
   "nbconvert_exporter": "python",
   "pygments_lexer": "ipython3",
   "version": "3.11.6"
  }
 },
 "nbformat": 4,
 "nbformat_minor": 2
}
